{
 "cells": [
  {
   "cell_type": "markdown",
   "metadata": {},
   "source": [
    "## Gradient Boosting\n",
    "\n",
    "depth of tree should be low.  \"small, not bigger than 4\".\n",
    "\n",
    "caretList is a vector of model names.  Johannes did not know how to save the models.\n",
    "\n",
    "caretStack takes the model list from caretList and then does a model on top of those models.  Johannes suggests using a glm or a random forest.\n",
    "\n",
    "pROC has a way to color the AUC based on the best thresholds."
   ]
  }
 ],
 "metadata": {
  "kernelspec": {
   "display_name": "R",
   "language": "R",
   "name": "ir"
  },
  "language_info": {
   "codemirror_mode": "r",
   "file_extension": ".r",
   "mimetype": "text/x-r-source",
   "name": "R",
   "pygments_lexer": "r",
   "version": "3.2.2"
  }
 },
 "nbformat": 4,
 "nbformat_minor": 0
}
