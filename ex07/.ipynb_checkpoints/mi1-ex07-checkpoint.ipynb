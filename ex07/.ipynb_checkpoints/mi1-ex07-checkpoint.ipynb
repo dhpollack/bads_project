{
 "cells": [
  {
   "cell_type": "code",
   "execution_count": 3,
   "metadata": {
    "collapsed": false
   },
   "outputs": [],
   "source": [
    "import numpy as np\n",
    "import math\n",
    "import matplotlib.pyplot as plt\n",
    "%matplotlib inline"
   ]
  },
  {
   "cell_type": "code",
   "execution_count": 26,
   "metadata": {
    "collapsed": true
   },
   "outputs": [],
   "source": [
    "def combinations(n,k):\n",
    "    return(math.factorial(n)/(math.factorial(k)*math.factorial(n-k)))\n",
    "def binomial(k,n,p):\n",
    "    return(combinations(n,k)*p**k*(1-p)**(n-k))\n",
    "def gaussian(x,mu,sigma):\n",
    "    return((1/(np.sqrt(2*np.pi)*sigma))*np.exp(-0.5*(x-mu)**2/sigma**2))\n",
    "def poisson(k, lam):\n",
    "    return(lam**k/math.factorial(k)*np.exp(-lam))"
   ]
  },
  {
   "cell_type": "code",
   "execution_count": 61,
   "metadata": {
    "collapsed": false
   },
   "outputs": [
    {
     "data": {
      "text/plain": [
       "<Container object of 20 artists>"
      ]
     },
     "execution_count": 61,
     "metadata": {},
     "output_type": "execute_result"
    },
    {
     "data": {
      "image/png": "[encoded data removed]",
      "text/plain": [
       "<matplotlib.figure.Figure at 0x7fe3ec526978>"
      ]
     },
     "metadata": {},
     "output_type": "display_data"
    }
   ],
   "source": [
    "n = 20\n",
    "p = 0.25\n",
    "bVals = [binomial(k,n,p) for k in range(n)]\n",
    "#bVals = bVals / np.sum(bVals)\n",
    "plt.bar(range(n),bVals)"
   ]
  },
  {
   "cell_type": "code",
   "execution_count": 56,
   "metadata": {
    "collapsed": false
   },
   "outputs": [
    {
     "data": {
      "text/plain": [
       "<Container object of 22 artists>"
      ]
     },
     "execution_count": 56,
     "metadata": {},
     "output_type": "execute_result"
    },
    {
     "data": {
      "image/png": "[encoded data removed]",
      "text/plain": [
       "<matplotlib.figure.Figure at 0x7fe3ec630a90>"
      ]
     },
     "metadata": {},
     "output_type": "display_data"
    }
   ],
   "source": [
    "mu = 10\n",
    "sigma = np.sqrt(mu)\n",
    "X = range(math.floor(mu-3.3*sigma),math.ceil(mu+3.3*sigma))\n",
    "gVals = [gaussian(x,mu,sigma) for x in X]\n",
    "gVals = gVals / np.sum(gVals)\n",
    "plt.bar(X,gVals)"
   ]
  },
  {
   "cell_type": "code",
   "execution_count": 62,
   "metadata": {
    "collapsed": false
   },
   "outputs": [
    {
     "data": {
      "text/plain": [
       "<Container object of 10 artists>"
      ]
     },
     "execution_count": 62,
     "metadata": {},
     "output_type": "execute_result"
    },
    {
     "data": {
      "image/png": "[encoded data removed]",
      "text/plain": [
       "<matplotlib.figure.Figure at 0x7fe3ec2e4978>"
      ]
     },
     "metadata": {},
     "output_type": "display_data"
    }
   ],
   "source": [
    "lam = 4\n",
    "X = range(math.floor(lam*2.5))\n",
    "pVals = [poisson(k,lam) for k in X]\n",
    "pVals = pVals / np.sum(pVals)\n",
    "plt.bar(X,pVals)"
   ]
  },
  {
   "cell_type": "code",
   "execution_count": null,
   "metadata": {
    "collapsed": true
   },
   "outputs": [],
   "source": []
  }
 ],
 "metadata": {
  "kernelspec": {
   "display_name": "Python 3",
   "language": "python",
   "name": "python3"
  },
  "language_info": {
   "codemirror_mode": {
    "name": "ipython",
    "version": 3
   },
   "file_extension": ".py",
   "mimetype": "text/x-python",
   "name": "python",
   "nbconvert_exporter": "python",
   "pygments_lexer": "ipython3",
   "version": "3.5.2"
  }
 },
 "nbformat": 4,
 "nbformat_minor": 0
}
