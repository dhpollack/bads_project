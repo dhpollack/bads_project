{
 "cells": [
  {
   "cell_type": "code",
   "execution_count": 1,
   "metadata": {
    "collapsed": false
   },
   "outputs": [
    {
     "data": {
      "text/html": [
       "<ol class=list-inline>\n",
       "\t<li>225</li>\n",
       "\t<li>16</li>\n",
       "</ol>\n"
      ],
      "text/latex": [
       "\\begin{enumerate*}\n",
       "\\item 225\n",
       "\\item 16\n",
       "\\end{enumerate*}\n"
      ],
      "text/markdown": [
       "1. 225\n",
       "2. 16\n",
       "\n",
       "\n"
      ],
      "text/plain": [
       "[1] 225  16"
      ]
     },
     "metadata": {},
     "output_type": "display_data"
    }
   ],
   "source": [
    "source(\"helperfunctions.r\")\n",
    "\n",
    "loans = get.loan.dataset()\n",
    "\n",
    "bound = 1000\n",
    "train = loans[1:bound,]\n",
    "test  = loans[(bound+1):nrow(loans),]\n",
    "\n",
    "dim(test)"
   ]
  },
  {
   "cell_type": "code",
   "execution_count": 2,
   "metadata": {
    "collapsed": false
   },
   "outputs": [
    {
     "data": {
      "text/html": [
       "<dl>\n",
       "\t<dt>$names</dt>\n",
       "\t\t<dd><ol class=list-inline>\n",
       "\t<li>'coefficients'</li>\n",
       "\t<li>'residuals'</li>\n",
       "\t<li>'fitted.values'</li>\n",
       "\t<li>'effects'</li>\n",
       "\t<li>'R'</li>\n",
       "\t<li>'rank'</li>\n",
       "\t<li>'qr'</li>\n",
       "\t<li>'family'</li>\n",
       "\t<li>'linear.predictors'</li>\n",
       "\t<li>'deviance'</li>\n",
       "\t<li>'aic'</li>\n",
       "\t<li>'null.deviance'</li>\n",
       "\t<li>'iter'</li>\n",
       "\t<li>'weights'</li>\n",
       "\t<li>'prior.weights'</li>\n",
       "\t<li>'df.residual'</li>\n",
       "\t<li>'df.null'</li>\n",
       "\t<li>'y'</li>\n",
       "\t<li>'converged'</li>\n",
       "\t<li>'boundary'</li>\n",
       "\t<li>'model'</li>\n",
       "\t<li>'call'</li>\n",
       "\t<li>'formula'</li>\n",
       "\t<li>'terms'</li>\n",
       "\t<li>'data'</li>\n",
       "\t<li>'offset'</li>\n",
       "\t<li>'control'</li>\n",
       "\t<li>'method'</li>\n",
       "\t<li>'contrasts'</li>\n",
       "\t<li>'xlevels'</li>\n",
       "</ol>\n",
       "</dd>\n",
       "\t<dt>$class</dt>\n",
       "\t\t<dd><ol class=list-inline>\n",
       "\t<li>'glm'</li>\n",
       "\t<li>'lm'</li>\n",
       "</ol>\n",
       "</dd>\n",
       "</dl>\n"
      ],
      "text/latex": [
       "\\begin{description}\n",
       "\\item[\\$names] \\begin{enumerate*}\n",
       "\\item 'coefficients'\n",
       "\\item 'residuals'\n",
       "\\item 'fitted.values'\n",
       "\\item 'effects'\n",
       "\\item 'R'\n",
       "\\item 'rank'\n",
       "\\item 'qr'\n",
       "\\item 'family'\n",
       "\\item 'linear.predictors'\n",
       "\\item 'deviance'\n",
       "\\item 'aic'\n",
       "\\item 'null.deviance'\n",
       "\\item 'iter'\n",
       "\\item 'weights'\n",
       "\\item 'prior.weights'\n",
       "\\item 'df.residual'\n",
       "\\item 'df.null'\n",
       "\\item 'y'\n",
       "\\item 'converged'\n",
       "\\item 'boundary'\n",
       "\\item 'model'\n",
       "\\item 'call'\n",
       "\\item 'formula'\n",
       "\\item 'terms'\n",
       "\\item 'data'\n",
       "\\item 'offset'\n",
       "\\item 'control'\n",
       "\\item 'method'\n",
       "\\item 'contrasts'\n",
       "\\item 'xlevels'\n",
       "\\end{enumerate*}\n",
       "\n",
       "\\item[\\$class] \\begin{enumerate*}\n",
       "\\item 'glm'\n",
       "\\item 'lm'\n",
       "\\end{enumerate*}\n",
       "\n",
       "\\end{description}\n"
      ],
      "text/markdown": [
       "$names\n",
       ":   1. 'coefficients'\n",
       "2. 'residuals'\n",
       "3. 'fitted.values'\n",
       "4. 'effects'\n",
       "5. 'R'\n",
       "6. 'rank'\n",
       "7. 'qr'\n",
       "8. 'family'\n",
       "9. 'linear.predictors'\n",
       "10. 'deviance'\n",
       "11. 'aic'\n",
       "12. 'null.deviance'\n",
       "13. 'iter'\n",
       "14. 'weights'\n",
       "15. 'prior.weights'\n",
       "16. 'df.residual'\n",
       "17. 'df.null'\n",
       "18. 'y'\n",
       "19. 'converged'\n",
       "20. 'boundary'\n",
       "21. 'model'\n",
       "22. 'call'\n",
       "23. 'formula'\n",
       "24. 'terms'\n",
       "25. 'data'\n",
       "26. 'offset'\n",
       "27. 'control'\n",
       "28. 'method'\n",
       "29. 'contrasts'\n",
       "30. 'xlevels'\n",
       "\n",
       "\n",
       "\n",
       "$class\n",
       ":   1. 'glm'\n",
       "2. 'lm'\n",
       "\n",
       "\n",
       "\n",
       "\n",
       "\n"
      ],
      "text/plain": [
       "$names\n",
       " [1] \"coefficients\"      \"residuals\"         \"fitted.values\"    \n",
       " [4] \"effects\"           \"R\"                 \"rank\"             \n",
       " [7] \"qr\"                \"family\"            \"linear.predictors\"\n",
       "[10] \"deviance\"          \"aic\"               \"null.deviance\"    \n",
       "[13] \"iter\"              \"weights\"           \"prior.weights\"    \n",
       "[16] \"df.residual\"       \"df.null\"           \"y\"                \n",
       "[19] \"converged\"         \"boundary\"          \"model\"            \n",
       "[22] \"call\"              \"formula\"           \"terms\"            \n",
       "[25] \"data\"              \"offset\"            \"control\"          \n",
       "[28] \"method\"            \"contrasts\"         \"xlevels\"          \n",
       "\n",
       "$class\n",
       "[1] \"glm\" \"lm\" \n"
      ]
     },
     "metadata": {},
     "output_type": "display_data"
    }
   ],
   "source": [
    "glm_model = glm(BAD ~ ., data=train, family=binomial)\n",
    "attributes(glm_model)\n"
   ]
  },
  {
   "cell_type": "code",
   "execution_count": 3,
   "metadata": {
    "collapsed": false
   },
   "outputs": [
    {
     "data": {
      "text/plain": [
       "\n",
       "Call:\n",
       "glm(formula = BAD ~ ., family = binomial, data = train)\n",
       "\n",
       "Deviance Residuals: \n",
       "     Min        1Q    Median        3Q       Max  \n",
       "-1.62812  -0.74259  -0.51590  -0.00027   2.43130  \n",
       "\n",
       "Coefficients:\n",
       "              Estimate Std. Error z value Pr(>|z|)   \n",
       "(Intercept)  1.724e+01  2.400e+03   0.007  0.99427   \n",
       "YOB7        -3.361e-01  3.393e+03   0.000  0.99992   \n",
       "YOB8        -1.545e+01  2.400e+03  -0.006  0.99486   \n",
       "YOB9        -1.735e+01  2.400e+03  -0.007  0.99423   \n",
       "YOB10       -1.561e+01  2.400e+03  -0.007  0.99481   \n",
       "YOB11       -1.618e+01  2.400e+03  -0.007  0.99462   \n",
       "YOB12       -1.585e+01  2.400e+03  -0.007  0.99473   \n",
       "YOB13       -1.628e+01  2.400e+03  -0.007  0.99459   \n",
       "YOB14       -1.721e+01  2.400e+03  -0.007  0.99428   \n",
       "YOB15       -1.593e+01  2.400e+03  -0.007  0.99470   \n",
       "YOB16       -1.624e+01  2.400e+03  -0.007  0.99460   \n",
       "YOB17       -1.615e+01  2.400e+03  -0.007  0.99463   \n",
       "YOB18       -1.713e+01  2.400e+03  -0.007  0.99430   \n",
       "YOB19       -1.696e+01  2.400e+03  -0.007  0.99436   \n",
       "YOB20       -3.226e+01  3.393e+03  -0.010  0.99242   \n",
       "YOB21       -1.709e+01  2.400e+03  -0.007  0.99432   \n",
       "YOB22       -1.469e+01  2.400e+03  -0.006  0.99511   \n",
       "YOB23       -3.269e+01  2.768e+03  -0.012  0.99058   \n",
       "YOB24       -1.649e+01  2.400e+03  -0.007  0.99452   \n",
       "YOB25       -1.711e+01  2.400e+03  -0.007  0.99431   \n",
       "YOB26       -1.682e+01  2.400e+03  -0.007  0.99441   \n",
       "YOB27       -1.608e+01  2.400e+03  -0.007  0.99465   \n",
       "YOB28       -1.823e+01  2.400e+03  -0.008  0.99394   \n",
       "YOB29       -1.745e+01  2.400e+03  -0.007  0.99420   \n",
       "YOB30       -1.602e+01  2.400e+03  -0.007  0.99467   \n",
       "YOB31       -1.629e+01  2.400e+03  -0.007  0.99458   \n",
       "YOB32       -1.823e+01  2.400e+03  -0.008  0.99394   \n",
       "YOB33       -1.779e+01  2.400e+03  -0.007  0.99408   \n",
       "YOB34       -1.717e+01  2.400e+03  -0.007  0.99429   \n",
       "YOB35       -3.265e+01  2.505e+03  -0.013  0.98960   \n",
       "YOB36       -1.683e+01  2.400e+03  -0.007  0.99440   \n",
       "YOB37       -1.842e+01  2.400e+03  -0.008  0.99388   \n",
       "YOB38       -1.686e+01  2.400e+03  -0.007  0.99439   \n",
       "YOB39       -1.655e+01  2.400e+03  -0.007  0.99450   \n",
       "YOB40       -1.687e+01  2.400e+03  -0.007  0.99439   \n",
       "YOB41       -1.726e+01  2.400e+03  -0.007  0.99426   \n",
       "YOB42       -1.665e+01  2.400e+03  -0.007  0.99446   \n",
       "YOB43       -1.889e+01  2.400e+03  -0.008  0.99372   \n",
       "YOB44       -1.794e+01  2.400e+03  -0.007  0.99403   \n",
       "YOB45       -1.864e+01  2.400e+03  -0.008  0.99380   \n",
       "YOB46       -1.710e+01  2.400e+03  -0.007  0.99431   \n",
       "YOB47       -1.708e+01  2.400e+03  -0.007  0.99432   \n",
       "YOB48       -1.742e+01  2.400e+03  -0.007  0.99421   \n",
       "YOB49       -1.787e+01  2.400e+03  -0.007  0.99406   \n",
       "YOB50       -1.677e+01  2.400e+03  -0.007  0.99442   \n",
       "YOB51       -1.785e+01  2.400e+03  -0.007  0.99407   \n",
       "YOB52       -1.754e+01  2.400e+03  -0.007  0.99417   \n",
       "YOB53       -3.269e+01  2.464e+03  -0.013  0.98941   \n",
       "YOB54       -1.737e+01  2.400e+03  -0.007  0.99422   \n",
       "YOB55       -1.698e+01  2.400e+03  -0.007  0.99436   \n",
       "YOB56       -1.697e+01  2.400e+03  -0.007  0.99436   \n",
       "YOB57       -1.882e+01  2.400e+03  -0.008  0.99374   \n",
       "YOB58       -1.745e+01  2.400e+03  -0.007  0.99420   \n",
       "YOB59       -1.662e+01  2.400e+03  -0.007  0.99447   \n",
       "YOB60       -1.764e+01  2.400e+03  -0.007  0.99413   \n",
       "YOB61       -1.674e+01  2.400e+03  -0.007  0.99443   \n",
       "YOB62       -1.807e+01  2.400e+03  -0.008  0.99399   \n",
       "YOB63       -1.781e+01  2.400e+03  -0.007  0.99408   \n",
       "YOB64       -1.776e+01  2.400e+03  -0.007  0.99409   \n",
       "YOB65       -1.838e+01  2.400e+03  -0.008  0.99389   \n",
       "YOB66       -1.714e+01  2.400e+03  -0.007  0.99430   \n",
       "YOB67       -1.830e+01  2.400e+03  -0.008  0.99392   \n",
       "YOB68       -1.760e+01  2.400e+03  -0.007  0.99415   \n",
       "YOB69       -1.601e+01  2.400e+03  -0.007  0.99468   \n",
       "nKIDS        7.859e-02  1.039e-01   0.757  0.44926   \n",
       "nDEP         3.344e-01  3.483e-01   0.960  0.33703   \n",
       "PHON1       -3.301e-01  2.826e-01  -1.168  0.24276   \n",
       "dINC_SP     -4.592e-05  2.290e-05  -2.006  0.04489 * \n",
       "EMPS_AE      6.734e-03  5.751e-01   0.012  0.99066   \n",
       "EMPS_AM     -1.393e-01  7.996e-01  -0.174  0.86164   \n",
       "EMPS_AN     -9.484e-01  1.267e+00  -0.748  0.45419   \n",
       "EMPS_AP     -3.123e-01  5.322e-01  -0.587  0.55732   \n",
       "EMPS_AR     -4.291e-01  7.574e-01  -0.567  0.57102   \n",
       "EMPS_AT     -4.502e-01  6.279e-01  -0.717  0.47338   \n",
       "EMPS_AU      4.361e-01  1.035e+00   0.421  0.67344   \n",
       "EMPS_AV     -4.344e-01  5.524e-01  -0.786  0.43159   \n",
       "EMPS_AW      2.910e-01  7.297e-01   0.399  0.69008   \n",
       "EMPS_AZ      5.989e-01  1.305e+00   0.459  0.64614   \n",
       "dINC_A      -2.424e-05  7.664e-06  -3.163  0.00156 **\n",
       "RESN         7.131e-01  4.411e-01   1.617  0.10594   \n",
       "RESO         2.118e-01  3.854e-01   0.550  0.58256   \n",
       "RESP        -4.605e-02  3.364e-01  -0.137  0.89110   \n",
       "RESU        -7.899e-03  3.864e-01  -0.020  0.98369   \n",
       "dHVAL       -4.346e-06  5.901e-06  -0.737  0.46140   \n",
       "dMBO        -3.286e-06  6.418e-06  -0.512  0.60861   \n",
       "dOUTM        2.495e-04  2.671e-04   0.934  0.35040   \n",
       "dOUTL       -7.825e-05  3.029e-04  -0.258  0.79618   \n",
       "dOUTHP      -1.599e-03  1.087e-03  -1.471  0.14123   \n",
       "dOUTCC      -2.290e-03  1.140e-03  -2.008  0.04460 * \n",
       "YOB_missing  2.262e-01  1.421e+00   0.159  0.87350   \n",
       "---\n",
       "Signif. codes:  0 ‘***’ 0.001 ‘**’ 0.01 ‘*’ 0.05 ‘.’ 0.1 ‘ ’ 1\n",
       "\n",
       "(Dispersion parameter for binomial family taken to be 1)\n",
       "\n",
       "    Null deviance: 1113.6  on 999  degrees of freedom\n",
       "Residual deviance:  945.0  on 910  degrees of freedom\n",
       "AIC: 1125\n",
       "\n",
       "Number of Fisher Scoring iterations: 15\n"
      ]
     },
     "metadata": {},
     "output_type": "display_data"
    }
   ],
   "source": [
    "summary(glm_model)"
   ]
  },
  {
   "cell_type": "code",
   "execution_count": 8,
   "metadata": {
    "collapsed": false
   },
   "outputs": [
    {
     "name": "stdout",
     "output_type": "stream",
     "text": [
      "        1001         1002         1003         1004         1005         1006 \n",
      "4.475474e-02 2.791827e-01 4.003573e-02 8.620832e-01 3.432113e-01 1.022543e-01 \n",
      "        1007         1008         1009         1010         1011         1012 \n",
      "2.771523e-01 6.693710e-01 2.217487e-01 1.182133e-01 4.018806e-02 4.849201e-08 \n",
      "        1013         1014         1015         1016         1017         1018 \n",
      "1.448271e-01 1.083424e-01 6.046904e-02 2.083184e-02 8.909186e-02 9.999999e-01 \n",
      "        1019         1020         1021         1022         1023         1024 \n",
      "2.155302e-01 6.141426e-02 8.901510e-02 2.298183e-01 9.326397e-02 2.872842e-08 \n",
      "        1025         1026         1027         1028         1029         1030 \n",
      "2.563686e-01 3.738208e-01 4.669359e-01 2.550452e-01 1.408080e-01 2.145143e-01 \n",
      "        1031         1032         1033         1034         1035         1036 \n",
      "1.471757e-01 4.307069e-01 5.742869e-01 3.756997e-01 6.166076e-02 3.281506e-02 \n",
      "        1037         1038         1039         1040         1041         1042 \n",
      "5.446089e-01 1.001967e-01 6.144707e-01 3.622065e-01 5.997065e-01 7.093285e-01 \n",
      "        1043         1044         1045         1046         1047         1048 \n",
      "5.997065e-01 3.857067e-01 1.944845e-01 2.294240e-01 1.621649e-01 2.535864e-01 \n",
      "        1049         1050         1051         1052         1053         1054 \n",
      "4.388890e-01 2.140216e-01 1.241791e-01 2.616286e-01 3.120276e-01 3.486983e-01 \n",
      "        1055         1056         1057         1058         1059         1060 \n",
      "1.245814e-01 2.162912e-01 6.757519e-01 1.124762e-01 2.150912e-02 4.042323e-01 \n",
      "        1061         1062         1063         1064         1065         1066 \n",
      "1.852713e-01 1.588153e-01 2.597758e-01 1.418817e-07 2.621572e-01 3.475178e-01 \n",
      "        1067         1068         1069         1070         1071         1072 \n",
      "5.865635e-01 4.783219e-02 6.264844e-01 1.109072e-01 4.942250e-02 5.712967e-01 \n",
      "        1073         1074         1075         1076         1077         1078 \n",
      "4.422471e-01 1.809259e-01 4.296597e-02 2.182164e-01 2.047911e-01 2.608991e-01 \n",
      "        1079         1080         1081         1082         1083         1084 \n",
      "3.995525e-02 1.803455e-01 2.079643e-01 5.600952e-02 6.757519e-01 3.840215e-02 \n",
      "        1085         1086         1087         1088         1089         1090 \n",
      "9.999999e-01 3.767677e-01 8.868736e-02 1.996228e-01 1.623169e-01 3.959588e-01 \n",
      "        1091         1092         1093         1094         1095         1096 \n",
      "2.061884e-01 1.876616e-01 1.577733e-01 9.199489e-02 2.591055e-01 1.794769e-01 \n",
      "        1097         1098         1099         1100         1101         1102 \n",
      "4.799742e-08 8.758638e-02 7.230691e-02 3.347510e-01 5.099852e-01 3.409768e-01 \n",
      "        1103         1104         1105         1106         1107         1108 \n",
      "1.649246e-01 6.034796e-01 1.492064e-01 5.190783e-08 2.993202e-01 2.891065e-01 \n",
      "        1109         1110         1111         1112         1113         1114 \n",
      "9.106414e-02 3.108823e-01 2.321411e-01 6.035327e-08 2.214948e-01 1.858282e-01 \n",
      "        1115         1116         1117         1118         1119         1120 \n",
      "6.373532e-01 4.337680e-01 2.073152e-01 2.131414e-01 2.108350e-01 3.204952e-01 \n",
      "        1121         1122         1123         1124         1125         1126 \n",
      "4.643009e-01 2.434508e-01 1.974462e-01 3.117579e-02 2.155038e-01 1.315791e-01 \n",
      "        1127         1128         1129         1130         1131         1132 \n",
      "4.658336e-01 4.543293e-01 8.547012e-01 2.842786e-01 1.177148e-01 3.800851e-01 \n",
      "        1133         1134         1135         1136         1137         1138 \n",
      "9.549764e-02 4.429927e-02 5.282602e-01 6.739815e-02 5.484521e-01 5.151240e-01 \n",
      "        1139         1140         1141         1142         1143         1144 \n",
      "1.353660e-01 6.592917e-01 6.003945e-01 2.324953e-01 3.127552e-01 1.392759e-01 \n",
      "        1145         1146         1147         1148         1149         1150 \n",
      "4.576918e-01 6.205282e-02 4.149122e-01 5.124019e-02 6.839935e-08 7.691104e-02 \n",
      "        1151         1152         1153         1154         1155         1156 \n",
      "3.279133e-01 1.557870e-01 1.656067e-01 3.542952e-01 4.788087e-02 6.520717e-01 \n",
      "        1157         1158         1159         1160         1161         1162 \n",
      "1.185486e-01 1.596802e-01 3.078519e-01 2.357761e-01 4.868112e-01 3.607524e-01 \n",
      "        1163         1164         1165         1166         1167         1168 \n",
      "5.781523e-01 3.183091e-01 8.588875e-01 1.372222e-01 5.019269e-01 3.294838e-01 \n",
      "        1169         1170         1171         1172         1173         1174 \n",
      "1.808854e-07 9.467445e-02 5.744647e-01 5.282989e-01 3.344142e-01 6.201676e-02 \n",
      "        1175         1176         1177         1178         1179         1180 \n",
      "5.288523e-01 3.719704e-02 4.681638e-02 1.478298e-01 7.631767e-02 2.247036e-01 \n",
      "        1181         1182         1183         1184         1185         1186 \n",
      "4.971223e-01 8.231395e-02 1.405239e-07 3.066905e-02 8.039111e-02 4.119431e-01 \n",
      "        1187         1188         1189         1190         1191         1192 \n",
      "2.951172e-01 1.501887e-01 1.717067e-01 6.024531e-02 2.130823e-01 2.939480e-01 \n",
      "        1193         1194         1195         1196         1197         1198 \n",
      "8.999110e-02 9.302325e-01 2.345863e-01 4.028417e-01 5.997065e-01 1.624639e-01 \n",
      "        1199         1200         1201         1202         1203         1204 \n",
      "5.171916e-01 7.940341e-02 1.188912e-01 1.120412e-01 3.590642e-01 1.974708e-02 \n",
      "        1205         1206         1207         1208         1209         1210 \n",
      "1.028576e-01 3.795041e-01 1.631887e-01 1.617459e-01 1.858547e-01 3.475269e-01 \n",
      "        1211         1212         1213         1214         1215         1216 \n",
      "1.039234e-01 7.344198e-01 1.894161e-01 2.012016e-01 1.529285e-01 7.705983e-02 \n",
      "        1217         1218         1219         1220         1221         1222 \n",
      "5.543879e-08 3.048377e-08 8.737318e-01 4.035341e-01 2.032669e-01 3.213382e-01 \n",
      "        1223         1224         1225 \n",
      "1.526736e-01 2.865842e-07 3.231262e-01 \n",
      "[1] 0.6444444\n"
     ]
    }
   ],
   "source": [
    "pred.glm = predict(glm_model, test, type=c(\"response\"))\n",
    "print(pred.glm)\n",
    "z = (loans[1001:nrow(loans),15] == ifelse(pred.glm > 0.5,1,0))\n",
    "print(sum(z, na.rm=TRUE) / length(z))\n",
    "\n"
   ]
  },
  {
   "cell_type": "code",
   "execution_count": 5,
   "metadata": {
    "collapsed": true
   },
   "outputs": [],
   "source": [
    "library(e1071)"
   ]
  },
  {
   "cell_type": "code",
   "execution_count": 6,
   "metadata": {
    "collapsed": false
   },
   "outputs": [
    {
     "data": {
      "text/html": [
       "<dl>\n",
       "\t<dt>$names</dt>\n",
       "\t\t<dd><ol class=list-inline>\n",
       "\t<li>'apriori'</li>\n",
       "\t<li>'tables'</li>\n",
       "\t<li>'levels'</li>\n",
       "\t<li>'call'</li>\n",
       "</ol>\n",
       "</dd>\n",
       "\t<dt>$class</dt>\n",
       "\t\t<dd>'naiveBayes'</dd>\n",
       "</dl>\n"
      ],
      "text/latex": [
       "\\begin{description}\n",
       "\\item[\\$names] \\begin{enumerate*}\n",
       "\\item 'apriori'\n",
       "\\item 'tables'\n",
       "\\item 'levels'\n",
       "\\item 'call'\n",
       "\\end{enumerate*}\n",
       "\n",
       "\\item[\\$class] 'naiveBayes'\n",
       "\\end{description}\n"
      ],
      "text/markdown": [
       "$names\n",
       ":   1. 'apriori'\n",
       "2. 'tables'\n",
       "3. 'levels'\n",
       "4. 'call'\n",
       "\n",
       "\n",
       "\n",
       "$class\n",
       ":   'naiveBayes'\n",
       "\n",
       "\n"
      ],
      "text/plain": [
       "$names\n",
       "[1] \"apriori\" \"tables\"  \"levels\"  \"call\"   \n",
       "\n",
       "$class\n",
       "[1] \"naiveBayes\"\n"
      ]
     },
     "metadata": {},
     "output_type": "display_data"
    }
   ],
   "source": [
    "nb = naiveBayes(BAD ~ ., data=train)\n",
    "attributes(nb)"
   ]
  },
  {
   "cell_type": "code",
   "execution_count": 7,
   "metadata": {
    "collapsed": false
   },
   "outputs": [
    {
     "data": {
      "text/html": [
       "0.546666666666667"
      ],
      "text/latex": [
       "0.546666666666667"
      ],
      "text/markdown": [
       "0.546666666666667"
      ],
      "text/plain": [
       "[1] 0.5466667"
      ]
     },
     "metadata": {},
     "output_type": "display_data"
    }
   ],
   "source": [
    "pred.nb = predict(nb, test)\n",
    "z = (pred.nb == loans[1001:nrow(loans),15])\n",
    "sum(z, na.rm=TRUE) / length(z)\n"
   ]
  },
  {
   "cell_type": "code",
   "execution_count": null,
   "metadata": {
    "collapsed": true
   },
   "outputs": [],
   "source": []
  }
 ],
 "metadata": {
  "kernelspec": {
   "display_name": "R",
   "language": "R",
   "name": "ir"
  },
  "language_info": {
   "codemirror_mode": "r",
   "file_extension": ".r",
   "mimetype": "text/x-r-source",
   "name": "R",
   "pygments_lexer": "r",
   "version": "3.3.1"
  }
 },
 "nbformat": 4,
 "nbformat_minor": 0
}
