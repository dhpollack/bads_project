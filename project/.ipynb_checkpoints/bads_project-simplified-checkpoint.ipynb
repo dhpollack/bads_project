{
 "cells": [
  {
   "cell_type": "code",
   "execution_count": 1,
   "metadata": {
    "collapsed": true
   },
   "outputs": [],
   "source": [
    "from badsproject import BADS"
   ]
  },
  {
   "cell_type": "code",
   "execution_count": 2,
   "metadata": {
    "collapsed": true
   },
   "outputs": [],
   "source": [
    "#####################################\n",
    "#\n",
    "#  Variable Selection\n",
    "#\n",
    "#####################################\n",
    "params_rf = {\n",
    "    ######### Set Seed #########\n",
    "    \"rs\": 90049,\n",
    "    \"save_model\": False,\n",
    "\n",
    "    ######### Feature Selection #########\n",
    "    \"manual_features_to_remove\": [\"x_order_date_num\", \"x_account_creation_date_num\", \n",
    "                                  \"x_deliverydate_estimated_num\", \"x_deliverydate_actual_num\"],\n",
    "    \"feature_correlation_removal\": False,\n",
    "    \"feature_correlation_threshold\": 0.7,\n",
    "    \"automatic_feature_selection\": False,\n",
    "    \"automatic_feature_threshold\": 0.005,\n",
    "\n",
    "    ######### Oversampling #########\n",
    "    # non-standard package: http://contrib.scikit-learn.org/imbalanced-learn/index.html\n",
    "    \"oversample_method\": \"none\",\n",
    "\n",
    "    ######### Cross-Valdiation #########\n",
    "    \"do_cv\": False, # this takes a long time\n",
    "    \"cv_num_folds\": 8,\n",
    "    \"cv_validation_frac\": 0.15,\n",
    "    \"cv_rs_iters\": 10,\n",
    "\n",
    "    ######### Model Selection #########\n",
    "    \"model_to_use\": \"rf\", # \"rf\" or \"gbc\" or \"linear\"\n",
    "    \"automatic_feature_selection_params\": {'n_estimators': 250, 'verbose': 0, 'n_jobs': 3},\n",
    "    \"clf_default_params\": {'min_samples_split': 2, 'n_estimators': 250, \n",
    "                           'min_samples_leaf': 9, 'criterion': 'gini', \n",
    "                           'verbose': 0, 'oob_score': True, 'n_jobs': 3},\n",
    "    \"cv_param_grid\": {'n_estimators':[100, 250, 500], \n",
    "                      'min_samples_split':[2, 4, 8], \n",
    "                      'min_samples_leaf': [1, 3, 9, 15], \n",
    "                      'n_jobs': [3]}\n",
    "\n",
    "}\n"
   ]
  },
  {
   "cell_type": "code",
   "execution_count": 3,
   "metadata": {
    "collapsed": false
   },
   "outputs": [
    {
     "name": "stdout",
     "output_type": "stream",
     "text": [
      "Imposing train column structure on test...\n",
      "No oversampling...\n",
      "No automatic feature selection...\n",
      "(51884, 299) (12971, 299) (44101, 299) (7783, 299)\n",
      "Validation Summary:\n",
      "Calculate Optimal Threshold\n"
     ]
    },
    {
     "data": {
      "image/png": "[encoded data removed]",
      "text/plain": [
       "<matplotlib.figure.Figure at 0x7f0aabc6f208>"
      ]
     },
     "metadata": {},
     "output_type": "display_data"
    },
    {
     "name": "stdout",
     "output_type": "stream",
     "text": [
      "Threshold: 0.245\n",
      "Average ROI: 0.839650520365\n",
      "ROC Score: 0.659598679239\n",
      "Validation Return Customers: 1670 of 7783 (21.46%)\n",
      "[[5205 1112]\n",
      " [ 908  558]]\n",
      "Testing Return Customers: 2737 of 12971 (21.1%)\n"
     ]
    }
   ],
   "source": [
    "a = BADS()\n",
    "a.set_model(\"rf\")\n",
    "a.__dict__.update(params_rf)\n",
    "# Load and split training  and testing data and create cross validation sets from training data\n",
    "a.create_datasets(use_woe = False)\n",
    "# Oversample if desired\n",
    "a.oversample()\n",
    "# Run algorithm-based feature selection\n",
    "a.automagic_feature_selection()\n",
    "# Print size of training sets\n",
    "print(a.X_train.shape, a.X_test.shape, a.X_train_cv.shape, a.X_valid_cv.shape)\n",
    "# Run the models\n",
    "a.run_model(\"output/8.csv\")"
   ]
  },
  {
   "cell_type": "code",
   "execution_count": null,
   "metadata": {
    "collapsed": false
   },
   "outputs": [],
   "source": []
  },
  {
   "cell_type": "code",
   "execution_count": null,
   "metadata": {
    "collapsed": true
   },
   "outputs": [],
   "source": []
  }
 ],
 "metadata": {
  "kernelspec": {
   "display_name": "Python 3",
   "language": "python",
   "name": "python3"
  },
  "language_info": {
   "codemirror_mode": {
    "name": "ipython",
    "version": 3
   },
   "file_extension": ".py",
   "mimetype": "text/x-python",
   "name": "python",
   "nbconvert_exporter": "python",
   "pygments_lexer": "ipython3",
   "version": "3.5.2"
  }
 },
 "nbformat": 4,
 "nbformat_minor": 0
}
