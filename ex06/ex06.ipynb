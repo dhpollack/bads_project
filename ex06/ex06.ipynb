{
 "cells": [
  {
   "cell_type": "code",
   "execution_count": 4,
   "metadata": {
    "collapsed": true
   },
   "outputs": [],
   "source": [
    "source('../helpfuncs/BADS-HelperFunctions.R')"
   ]
  },
  {
   "cell_type": "code",
   "execution_count": 5,
   "metadata": {
    "collapsed": false
   },
   "outputs": [
    {
     "data": {
      "text/html": [
       "<table>\n",
       "<thead><tr><th></th><th scope=col>YOB</th><th scope=col>nKIDS</th><th scope=col>nDEP</th><th scope=col>PHON</th><th scope=col>dINC_SP</th><th scope=col>EMPS_A</th><th scope=col>dINC_A</th><th scope=col>RES</th><th scope=col>dHVAL</th><th scope=col>dMBO</th><th scope=col>dOUTM</th><th scope=col>dOUTL</th><th scope=col>dOUTHP</th><th scope=col>dOUTCC</th><th scope=col>BAD</th><th scope=col>YOB_missing</th></tr></thead>\n",
       "<tbody>\n",
       "\t<tr><th scope=row>1</th><td>19   </td><td>4    </td><td>0    </td><td>yes  </td><td>0    </td><td>R    </td><td>0    </td><td>O    </td><td>14464</td><td>4    </td><td>0    </td><td>0    </td><td>0    </td><td>0    </td><td>GOOD </td><td>0    </td></tr>\n",
       "\t<tr><th scope=row>2</th><td>41   </td><td>2    </td><td>0    </td><td>yes  </td><td>0    </td><td>P    </td><td>36000</td><td>O    </td><td>0    </td><td>0    </td><td>280  </td><td>664  </td><td>0    </td><td>80   </td><td>GOOD </td><td>0    </td></tr>\n",
       "\t<tr><th scope=row>3</th><td>66   </td><td>0    </td><td>0    </td><td>yes  </td><td>0    </td><td>N    </td><td>30000</td><td>N    </td><td>0    </td><td>0    </td><td>0    </td><td>0    </td><td>0    </td><td>0    </td><td>GOOD </td><td>0    </td></tr>\n",
       "\t<tr><th scope=row>4</th><td>51   </td><td>2    </td><td>0    </td><td>yes  </td><td>0    </td><td>P    </td><td>464  </td><td>O    </td><td>24928</td><td>8464 </td><td>584  </td><td>320  </td><td>0    </td><td>60   </td><td>GOOD </td><td>0    </td></tr>\n",
       "\t<tr><th scope=row>5</th><td>65   </td><td>0    </td><td>0    </td><td>yes  </td><td>0    </td><td>P    </td><td>15000</td><td>P    </td><td>0    </td><td>0    </td><td>0    </td><td>0    </td><td>0    </td><td>0    </td><td>GOOD </td><td>0    </td></tr>\n",
       "\t<tr><th scope=row>6</th><td>42   </td><td>2    </td><td>0    </td><td>yes  </td><td>10500</td><td>E    </td><td>48000</td><td>O    </td><td>43392</td><td>46464</td><td>1120 </td><td>0    </td><td>0    </td><td>0    </td><td>GOOD </td><td>0    </td></tr>\n",
       "</tbody>\n",
       "</table>\n"
      ],
      "text/latex": [
       "\\begin{tabular}{r|llllllllllllllll}\n",
       "  & YOB & nKIDS & nDEP & PHON & dINC\\_SP & EMPS\\_A & dINC\\_A & RES & dHVAL & dMBO & dOUTM & dOUTL & dOUTHP & dOUTCC & BAD & YOB\\_missing\\\\\n",
       "\\hline\n",
       "\t1 & 19    & 4     & 0     & yes   & 0     & R     & 0     & O     & 14464 & 4     & 0     & 0     & 0     & 0     & GOOD  & 0    \\\\\n",
       "\t2 & 41    & 2     & 0     & yes   & 0     & P     & 36000 & O     & 0     & 0     & 280   & 664   & 0     & 80    & GOOD  & 0    \\\\\n",
       "\t3 & 66    & 0     & 0     & yes   & 0     & N     & 30000 & N     & 0     & 0     & 0     & 0     & 0     & 0     & GOOD  & 0    \\\\\n",
       "\t4 & 51    & 2     & 0     & yes   & 0     & P     & 464   & O     & 24928 & 8464  & 584   & 320   & 0     & 60    & GOOD  & 0    \\\\\n",
       "\t5 & 65    & 0     & 0     & yes   & 0     & P     & 15000 & P     & 0     & 0     & 0     & 0     & 0     & 0     & GOOD  & 0    \\\\\n",
       "\t6 & 42    & 2     & 0     & yes   & 10500 & E     & 48000 & O     & 43392 & 46464 & 1120  & 0     & 0     & 0     & GOOD  & 0    \\\\\n",
       "\\end{tabular}\n"
      ],
      "text/plain": [
       "  YOB nKIDS nDEP PHON dINC_SP EMPS_A dINC_A RES dHVAL  dMBO dOUTM dOUTL dOUTHP\n",
       "1  19     4    0  yes       0      R      0   O 14464     4     0     0      0\n",
       "2  41     2    0  yes       0      P  36000   O     0     0   280   664      0\n",
       "3  66     0    0  yes       0      N  30000   N     0     0     0     0      0\n",
       "4  51     2    0  yes       0      P    464   O 24928  8464   584   320      0\n",
       "5  65     0    0  yes       0      P  15000   P     0     0     0     0      0\n",
       "6  42     2    0  yes   10500      E  48000   O 43392 46464  1120     0      0\n",
       "  dOUTCC  BAD YOB_missing\n",
       "1      0 GOOD           0\n",
       "2     80 GOOD           0\n",
       "3      0 GOOD           0\n",
       "4     60 GOOD           0\n",
       "5      0 GOOD           0\n",
       "6      0 GOOD           0"
      ]
     },
     "metadata": {},
     "output_type": "display_data"
    }
   ],
   "source": [
    "loans = get.loan.dataset(fpath='../data/Loan_Data.csv')\n"
   ]
  },
  {
   "cell_type": "code",
   "execution_count": 13,
   "metadata": {
    "collapsed": false
   },
   "outputs": [
    {
     "data": {
      "text/html": [
       "<ol class=list-inline>\n",
       "\t<li>490</li>\n",
       "\t<li>16</li>\n",
       "</ol>\n"
      ],
      "text/latex": [
       "\\begin{enumerate*}\n",
       "\\item 490\n",
       "\\item 16\n",
       "\\end{enumerate*}\n"
      ],
      "text/markdown": [
       "1. 490\n",
       "2. 16\n",
       "\n",
       "\n"
      ],
      "text/plain": [
       "[1] 490  16"
      ]
     },
     "metadata": {},
     "output_type": "display_data"
    }
   ],
   "source": [
    "loans = loans[sample(nrow(loans)),] # shuffle the loans\n",
    "bound = floor(nrow(loans)*0.6) \n",
    "train = loans[1:bound,]\n",
    "test  = loans[(bound+1):nrow(loans),]\n"
   ]
  },
  {
   "cell_type": "code",
   "execution_count": 14,
   "metadata": {
    "collapsed": true
   },
   "outputs": [],
   "source": [
    "glm_model = glm(BAD ~ ., data=train, family=binomial)"
   ]
  },
  {
   "cell_type": "code",
   "execution_count": 16,
   "metadata": {
    "collapsed": false
   },
   "outputs": [
    {
     "data": {
      "text/plain": [
       "\n",
       "Call:\n",
       "glm(formula = BAD ~ ., family = binomial, data = train)\n",
       "\n",
       "Deviance Residuals: \n",
       "    Min       1Q   Median       3Q      Max  \n",
       "-1.6175  -0.7593  -0.6293   0.6696   2.2771  \n",
       "\n",
       "Coefficients:\n",
       "               Estimate Std. Error z value Pr(>|z|)    \n",
       "(Intercept)   9.804e-01  8.575e-01   1.143 0.252899    \n",
       "YOB          -1.969e-02  9.709e-03  -2.028 0.042510 *  \n",
       "nKIDS         3.651e-02  1.009e-01   0.362 0.717551    \n",
       "nDEP          1.586e-01  3.996e-01   0.397 0.691425    \n",
       "PHONyes      -1.962e-01  3.176e-01  -0.618 0.536675    \n",
       "dINC_SP      -6.104e-05  2.461e-05  -2.481 0.013117 *  \n",
       "EMPS_AE      -1.979e-01  5.886e-01  -0.336 0.736781    \n",
       "EMPS_AM       2.293e-01  7.870e-01   0.291 0.770796    \n",
       "EMPS_AN      -1.346e+01  8.827e+02  -0.015 0.987838    \n",
       "EMPS_AP      -5.262e-01  5.278e-01  -0.997 0.318850    \n",
       "EMPS_AR      -4.690e-01  6.809e-01  -0.689 0.490933    \n",
       "EMPS_AT      -5.171e-01  6.157e-01  -0.840 0.400953    \n",
       "EMPS_AU       4.950e-01  1.388e+00   0.357 0.721431    \n",
       "EMPS_AV      -3.296e-01  5.473e-01  -0.602 0.547035    \n",
       "EMPS_AW       5.856e-01  7.421e-01   0.789 0.430009    \n",
       "EMPS_AZ       5.565e-01  1.419e+00   0.392 0.694852    \n",
       "dINC_A       -2.638e-05  7.599e-06  -3.471 0.000519 ***\n",
       "RESN          8.946e-01  4.839e-01   1.849 0.064501 .  \n",
       "RESO          1.658e-01  4.160e-01   0.398 0.690340    \n",
       "RESP          1.133e-01  3.586e-01   0.316 0.752064    \n",
       "RESU         -1.935e-01  4.025e-01  -0.481 0.630751    \n",
       "dHVAL        -4.764e-06  6.224e-06  -0.765 0.444011    \n",
       "dMBO          9.575e-06  6.483e-06   1.477 0.139685    \n",
       "dOUTM         3.339e-05  2.619e-04   0.127 0.898554    \n",
       "dOUTL         8.567e-05  1.794e-04   0.478 0.632996    \n",
       "dOUTHP       -1.101e-03  1.107e-03  -0.994 0.319998    \n",
       "dOUTCC       -2.123e-03  1.089e-03  -1.950 0.051220 .  \n",
       "YOB_missing1 -1.491e+01  4.710e+02  -0.032 0.974745    \n",
       "---\n",
       "Signif. codes:  0 ‘***’ 0.001 ‘**’ 0.01 ‘*’ 0.05 ‘.’ 0.1 ‘ ’ 1\n",
       "\n",
       "(Dispersion parameter for binomial family taken to be 1)\n",
       "\n",
       "    Null deviance: 831.54  on 734  degrees of freedom\n",
       "Residual deviance: 764.37  on 707  degrees of freedom\n",
       "AIC: 820.37\n",
       "\n",
       "Number of Fisher Scoring iterations: 13\n"
      ]
     },
     "metadata": {},
     "output_type": "display_data"
    }
   ],
   "source": [
    "summary(glm_model)"
   ]
  },
  {
   "cell_type": "code",
   "execution_count": 17,
   "metadata": {
    "collapsed": false
   },
   "outputs": [
    {
     "data": {
      "text/html": [
       "<dl class=dl-horizontal>\n",
       "\t<dt>284</dt>\n",
       "\t\t<dd>0.314861893133732</dd>\n",
       "\t<dt>368</dt>\n",
       "\t\t<dd>0.257526562811828</dd>\n",
       "\t<dt>773</dt>\n",
       "\t\t<dd>0.267540946447702</dd>\n",
       "\t<dt>633</dt>\n",
       "\t\t<dd>0.26872116776186</dd>\n",
       "\t<dt>236</dt>\n",
       "\t\t<dd>0.473668818239689</dd>\n",
       "\t<dt>475</dt>\n",
       "\t\t<dd>0.551979865320149</dd>\n",
       "</dl>\n"
      ],
      "text/latex": [
       "\\begin{description*}\n",
       "\\item[284] 0.314861893133732\n",
       "\\item[368] 0.257526562811828\n",
       "\\item[773] 0.267540946447702\n",
       "\\item[633] 0.26872116776186\n",
       "\\item[236] 0.473668818239689\n",
       "\\item[475] 0.551979865320149\n",
       "\\end{description*}\n"
      ],
      "text/markdown": [
       "284\n",
       ":   0.314861893133732368\n",
       ":   0.257526562811828773\n",
       ":   0.267540946447702633\n",
       ":   0.26872116776186236\n",
       ":   0.473668818239689475\n",
       ":   0.551979865320149\n",
       "\n"
      ],
      "text/plain": [
       "      284       368       773       633       236       475 \n",
       "0.3148619 0.2575266 0.2675409 0.2687212 0.4736688 0.5519799 "
      ]
     },
     "metadata": {},
     "output_type": "display_data"
    }
   ],
   "source": [
    "preds.glm = predict(glm_model, test, type=c(\"response\")) # in econometrics this is 'y_hat'\n",
    "head(preds.glm)"
   ]
  },
  {
   "cell_type": "code",
   "execution_count": 22,
   "metadata": {
    "collapsed": false
   },
   "outputs": [
    {
     "name": "stdout",
     "output_type": "stream",
     "text": [
      "[1] \"SSE: 47.5973200560723\"\n"
     ]
    }
   ],
   "source": [
    "y_t = as.numeric(test$BAD)-1 # in econometrics notation this is simply 'y'\n",
    "SSE.glm = sum(0.5*(y_t-preds.glm)^2)\n",
    "print(paste('SSE.glm:',SSE.glm))"
   ]
  },
  {
   "cell_type": "code",
   "execution_count": 54,
   "metadata": {
    "collapsed": false
   },
   "outputs": [
    {
     "name": "stdout",
     "output_type": "stream",
     "text": [
      "[1] \"SSE.dt: 48.7774838404864\"\n"
     ]
    }
   ],
   "source": [
    "library(rpart)\n",
    "dt_model = rpart(BAD ~ ., data=train, method='class')\n",
    "preds.dt = predict(dt_model, test)[,2]\n",
    "SSE.dt = sum(0.5*(y_t-preds.dt)^2)\n",
    "print(paste('SSE.dt:',SSE.dt))"
   ]
  },
  {
   "cell_type": "code",
   "execution_count": 55,
   "metadata": {
    "collapsed": false
   },
   "outputs": [
    {
     "name": "stdout",
     "output_type": "stream",
     "text": [
      "[1] \"SSE.dt: 90.5756009070295\"\n"
     ]
    }
   ],
   "source": [
    "dtfull_model = rpart(BAD ~ ., data=train, method='class', control=rpart.control(minsplit=3,cp=0.0))\n",
    "preds.dtfull = predict(dtfull_model, test)[,2]\n",
    "SSE.dtfull = sum(0.5*(y_t-preds.dtfull)^2)\n",
    "print(paste('SSE.dt:',SSE.dtfull))"
   ]
  },
  {
   "cell_type": "code",
   "execution_count": 34,
   "metadata": {
    "collapsed": false
   },
   "outputs": [],
   "source": [
    "library(caret) # machine learning library ala scikit learn\n",
    "# install.packages('e1071')\n",
    "library(e1071)"
   ]
  },
  {
   "cell_type": "code",
   "execution_count": 60,
   "metadata": {
    "collapsed": false
   },
   "outputs": [
    {
     "data": {
      "text/plain": [
       "Confusion Matrix and Statistics\n",
       "\n",
       "          Reference\n",
       "Prediction   0   1\n",
       "         0 330 119\n",
       "         1  23  18\n",
       "                                        \n",
       "               Accuracy : 0.7102        \n",
       "                 95% CI : (0.6678, 0.75)\n",
       "    No Information Rate : 0.7204        \n",
       "    P-Value [Acc > NIR] : 0.7118        \n",
       "                                        \n",
       "                  Kappa : 0.0843        \n",
       " Mcnemar's Test P-Value : 1.558e-15     \n",
       "                                        \n",
       "            Sensitivity : 0.9348        \n",
       "            Specificity : 0.1314        \n",
       "         Pos Pred Value : 0.7350        \n",
       "         Neg Pred Value : 0.4390        \n",
       "             Prevalence : 0.7204        \n",
       "         Detection Rate : 0.6735        \n",
       "   Detection Prevalence : 0.9163        \n",
       "      Balanced Accuracy : 0.5331        \n",
       "                                        \n",
       "       'Positive' Class : 0             \n",
       "                                        "
      ]
     },
     "metadata": {},
     "output_type": "display_data"
    },
    {
     "data": {
      "text/plain": [
       "Confusion Matrix and Statistics\n",
       "\n",
       "          Reference\n",
       "Prediction   0   1\n",
       "         0 318 101\n",
       "         1  35  36\n",
       "                                          \n",
       "               Accuracy : 0.7224          \n",
       "                 95% CI : (0.6805, 0.7617)\n",
       "    No Information Rate : 0.7204          \n",
       "    P-Value [Acc > NIR] : 0.4829          \n",
       "                                          \n",
       "                  Kappa : 0.1919          \n",
       " Mcnemar's Test P-Value : 2.494e-08       \n",
       "                                          \n",
       "            Sensitivity : 0.9008          \n",
       "            Specificity : 0.2628          \n",
       "         Pos Pred Value : 0.7589          \n",
       "         Neg Pred Value : 0.5070          \n",
       "             Prevalence : 0.7204          \n",
       "         Detection Rate : 0.6490          \n",
       "   Detection Prevalence : 0.8551          \n",
       "      Balanced Accuracy : 0.5818          \n",
       "                                          \n",
       "       'Positive' Class : 0               \n",
       "                                          "
      ]
     },
     "metadata": {},
     "output_type": "display_data"
    },
    {
     "data": {
      "text/plain": [
       "Confusion Matrix and Statistics\n",
       "\n",
       "          Reference\n",
       "Prediction   0   1\n",
       "         0 256  87\n",
       "         1  97  50\n",
       "                                          \n",
       "               Accuracy : 0.6245          \n",
       "                 95% CI : (0.5799, 0.6675)\n",
       "    No Information Rate : 0.7204          \n",
       "    P-Value [Acc > NIR] : 1.000           \n",
       "                                          \n",
       "                  Kappa : 0.0882          \n",
       " Mcnemar's Test P-Value : 0.507           \n",
       "                                          \n",
       "            Sensitivity : 0.7252          \n",
       "            Specificity : 0.3650          \n",
       "         Pos Pred Value : 0.7464          \n",
       "         Neg Pred Value : 0.3401          \n",
       "             Prevalence : 0.7204          \n",
       "         Detection Rate : 0.5224          \n",
       "   Detection Prevalence : 0.7000          \n",
       "      Balanced Accuracy : 0.5451          \n",
       "                                          \n",
       "       'Positive' Class : 0               \n",
       "                                          "
      ]
     },
     "metadata": {},
     "output_type": "display_data"
    }
   ],
   "source": [
    "tau = 0.5 # will control the number of good/bad predictions\n",
    "preds.glm_discrete = ifelse(preds.glm < tau, 0, 1)\n",
    "preds.dt_discrete = ifelse(preds.dt < tau, 0, 1)\n",
    "preds.dtfull_discrete = ifelse(preds.dtfull < tau, 0, 1)\n",
    "\n",
    "# confusion matrix, you can also use table(), but does not give all the other stats\n",
    "confusionMatrix(data = preds.glm_discrete, reference = y_t)\n",
    "confusionMatrix(data = preds.dt_discrete, reference = y_t)\n",
    "confusionMatrix(data = preds.dtfull_discrete, reference = y_t)"
   ]
  },
  {
   "cell_type": "code",
   "execution_count": 56,
   "metadata": {
    "collapsed": false
   },
   "outputs": [
    {
     "name": "stdout",
     "output_type": "stream",
     "text": [
      "[1] \"Total Classification\"\n"
     ]
    },
    {
     "data": {
      "text/plain": [
       "\n",
       "     GOOD       BAD \n",
       "0.7355102 0.2628571 "
      ]
     },
     "metadata": {},
     "output_type": "display_data"
    }
   ],
   "source": [
    "print('Total Classification')\n",
    "(table(loans$BAD)-1) / length(loans$BAD)"
   ]
  },
  {
   "cell_type": "code",
   "execution_count": 74,
   "metadata": {
    "collapsed": false
   },
   "outputs": [
    {
     "name": "stdout",
     "output_type": "stream",
     "text": [
      "                H       Gini       AUC      AUCH        KS       MER       MWL\n",
      "glm    0.10515430 0.26670251 0.6333513 0.6608011 0.2437708 0.2734694 0.3046397\n",
      "dt     0.07071909 0.20028535 0.6001427 0.6130870 0.1968322 0.2775510 0.3235485\n",
      "dtfull 0.01296938 0.09538678 0.5476934 0.5525630 0.1012800 0.2795918 0.3620408\n",
      "       Spec.Sens95 Sens.Spec95\n",
      "glm    0.093484419   0.1021898\n",
      "dt     0.007330028   0.2553933\n",
      "dtfull 0.589474976   0.2536536\n"
     ]
    },
    {
     "data": {
      "image/png": "[encoded data removed]",
      "image/svg+xml": [
       "<?xml version=\"1.0\" encoding=\"UTF-8\"?>\n",
       "<svg xmlns=\"http://www.w3.org/2000/svg\" xmlns:xlink=\"http://www.w3.org/1999/xlink\" width=\"504pt\" height=\"504pt\" viewBox=\"0 0 504 504\" version=\"1.1\">\n",
       "<defs>\n",
       "<g>\n",
       "<symbol overflow=\"visible\" id=\"glyph0-0\">\n",
       "<path style=\"stroke:none;\" d=\"\"/>\n",
       "</symbol>\n",
       "<symbol overflow=\"visible\" id=\"glyph0-1\">\n",
       "<path style=\"stroke:none;\" d=\"M 6.078125 -4.09375 C 6.078125 -7.046875 5.140625 -8.515625 3.296875 -8.515625 C 1.46875 -8.515625 0.515625 -7.015625 0.515625 -4.15625 C 0.515625 -1.296875 1.46875 0.1875 3.296875 0.1875 C 5.09375 0.1875 6.078125 -1.296875 6.078125 -4.09375 Z M 5 -4.1875 C 5 -1.78125 4.453125 -0.703125 3.28125 -0.703125 C 2.15625 -0.703125 1.59375 -1.828125 1.59375 -4.15625 C 1.59375 -6.484375 2.15625 -7.578125 3.296875 -7.578125 C 4.4375 -7.578125 5 -6.46875 5 -4.1875 Z \"/>\n",
       "</symbol>\n",
       "<symbol overflow=\"visible\" id=\"glyph0-2\">\n",
       "<path style=\"stroke:none;\" d=\"M 2.296875 0 L 2.296875 -1.25 L 1.046875 -1.25 L 1.046875 0 Z \"/>\n",
       "</symbol>\n",
       "<symbol overflow=\"visible\" id=\"glyph0-3\">\n",
       "<path style=\"stroke:none;\" d=\"M 6.125 -6.015625 C 6.125 -7.453125 5.015625 -8.515625 3.40625 -8.515625 C 1.671875 -8.515625 0.65625 -7.625 0.59375 -5.5625 L 1.65625 -5.5625 C 1.734375 -6.984375 2.328125 -7.578125 3.375 -7.578125 C 4.328125 -7.578125 5.046875 -6.90625 5.046875 -5.984375 C 5.046875 -5.3125 4.65625 -4.734375 3.90625 -4.3125 L 2.796875 -3.6875 C 1.015625 -2.671875 0.5 -1.875 0.40625 0 L 6.078125 0 L 6.078125 -1.046875 L 1.59375 -1.046875 C 1.703125 -1.734375 2.09375 -2.1875 3.125 -2.796875 L 4.328125 -3.4375 C 5.515625 -4.078125 6.125 -4.96875 6.125 -6.015625 Z \"/>\n",
       "</symbol>\n",
       "<symbol overflow=\"visible\" id=\"glyph0-4\">\n",
       "<path style=\"stroke:none;\" d=\"M 6.234375 -2.046875 L 6.234375 -2.984375 L 4.984375 -2.984375 L 4.984375 -8.515625 L 4.203125 -8.515625 L 0.34375 -3.15625 L 0.34375 -2.046875 L 3.921875 -2.046875 L 3.921875 0 L 4.984375 0 L 4.984375 -2.046875 Z M 3.921875 -2.984375 L 1.265625 -2.984375 L 3.921875 -6.703125 Z \"/>\n",
       "</symbol>\n",
       "<symbol overflow=\"visible\" id=\"glyph0-5\">\n",
       "<path style=\"stroke:none;\" d=\"M 6.15625 -2.640625 C 6.15625 -4.21875 5.078125 -5.296875 3.546875 -5.296875 C 2.71875 -5.296875 2.046875 -4.96875 1.59375 -4.34375 C 1.609375 -6.421875 2.28125 -7.578125 3.484375 -7.578125 C 4.234375 -7.578125 4.75 -7.109375 4.921875 -6.28125 L 5.96875 -6.28125 C 5.765625 -7.6875 4.859375 -8.515625 3.5625 -8.515625 C 1.578125 -8.515625 0.515625 -6.84375 0.515625 -3.875 C 0.515625 -1.21875 1.421875 0.1875 3.375 0.1875 C 4.984375 0.1875 6.15625 -0.96875 6.15625 -2.640625 Z M 5.078125 -2.5625 C 5.078125 -1.484375 4.359375 -0.75 3.390625 -0.75 C 2.40625 -0.75 1.65625 -1.53125 1.65625 -2.609375 C 1.65625 -3.671875 2.375 -4.359375 3.421875 -4.359375 C 4.4375 -4.359375 5.078125 -3.703125 5.078125 -2.5625 Z \"/>\n",
       "</symbol>\n",
       "<symbol overflow=\"visible\" id=\"glyph0-6\">\n",
       "<path style=\"stroke:none;\" d=\"M 6.15625 -2.40625 C 6.15625 -3.34375 5.671875 -4.015625 4.6875 -4.46875 C 5.5625 -5 5.859375 -5.4375 5.859375 -6.234375 C 5.859375 -7.578125 4.8125 -8.515625 3.296875 -8.515625 C 1.796875 -8.515625 0.75 -7.578125 0.75 -6.234375 C 0.75 -5.453125 1.03125 -5.015625 1.890625 -4.46875 C 0.921875 -4.015625 0.4375 -3.34375 0.4375 -2.40625 C 0.4375 -0.859375 1.625 0.1875 3.296875 0.1875 C 4.984375 0.1875 6.15625 -0.859375 6.15625 -2.40625 Z M 4.78125 -6.21875 C 4.78125 -5.421875 4.1875 -4.890625 3.296875 -4.890625 C 2.40625 -4.890625 1.828125 -5.421875 1.828125 -6.234375 C 1.828125 -7.046875 2.40625 -7.578125 3.296875 -7.578125 C 4.203125 -7.578125 4.78125 -7.046875 4.78125 -6.21875 Z M 5.078125 -2.390625 C 5.078125 -1.375 4.359375 -0.75 3.28125 -0.75 C 2.25 -0.75 1.53125 -1.390625 1.53125 -2.390625 C 1.53125 -3.390625 2.25 -4.015625 3.296875 -4.015625 C 4.359375 -4.015625 5.078125 -3.390625 5.078125 -2.390625 Z \"/>\n",
       "</symbol>\n",
       "<symbol overflow=\"visible\" id=\"glyph0-7\">\n",
       "<path style=\"stroke:none;\" d=\"M 4.15625 0 L 4.15625 -8.515625 L 3.46875 -8.515625 C 3.09375 -7.203125 2.859375 -7.015625 1.21875 -6.8125 L 1.21875 -6.0625 L 3.109375 -6.0625 L 3.109375 0 Z \"/>\n",
       "</symbol>\n",
       "<symbol overflow=\"visible\" id=\"glyph0-8\">\n",
       "<path style=\"stroke:none;\" d=\"M 6.953125 -7.765625 L 6.953125 -8.75 L 1.078125 -8.75 L 1.078125 0 L 2.203125 0 L 2.203125 -3.984375 L 6.375 -3.984375 L 6.375 -4.96875 L 2.203125 -4.96875 L 2.203125 -7.765625 Z \"/>\n",
       "</symbol>\n",
       "<symbol overflow=\"visible\" id=\"glyph0-9\">\n",
       "<path style=\"stroke:none;\" d=\"M 7.40625 -6.1875 C 7.40625 -7.828125 6.4375 -8.75 4.703125 -8.75 L 1.09375 -8.75 L 1.09375 0 L 2.203125 0 L 2.203125 -3.703125 L 4.953125 -3.703125 C 6.390625 -3.703125 7.40625 -4.734375 7.40625 -6.1875 Z M 6.234375 -6.234375 C 6.234375 -5.265625 5.609375 -4.6875 4.53125 -4.6875 L 2.203125 -4.6875 L 2.203125 -7.765625 L 4.53125 -7.765625 C 5.609375 -7.765625 6.234375 -7.1875 6.234375 -6.234375 Z \"/>\n",
       "</symbol>\n",
       "<symbol overflow=\"visible\" id=\"glyph0-10\">\n",
       "<path style=\"stroke:none;\" d=\"M 8.140625 0 L 8.140625 -0.28125 C 7.734375 -0.5625 7.625 -0.875 7.625 -2.046875 C 7.59375 -3.484375 7.375 -3.90625 6.4375 -4.3125 C 7.421875 -4.796875 7.8125 -5.40625 7.8125 -6.40625 C 7.8125 -7.921875 6.859375 -8.75 5.140625 -8.75 L 1.109375 -8.75 L 1.109375 0 L 2.234375 0 L 2.234375 -3.765625 L 5.109375 -3.765625 C 6.09375 -3.765625 6.5625 -3.28125 6.546875 -2.203125 L 6.546875 -1.421875 C 6.53125 -0.890625 6.640625 -0.359375 6.796875 0 Z M 6.640625 -6.25 C 6.640625 -5.21875 6.125 -4.75 4.9375 -4.75 L 2.234375 -4.75 L 2.234375 -7.765625 L 4.9375 -7.765625 C 6.1875 -7.765625 6.640625 -7.234375 6.640625 -6.25 Z \"/>\n",
       "</symbol>\n",
       "<symbol overflow=\"visible\" id=\"glyph0-11\">\n",
       "<path style=\"stroke:none;\" d=\"\"/>\n",
       "</symbol>\n",
       "<symbol overflow=\"visible\" id=\"glyph0-12\">\n",
       "<path style=\"stroke:none;\" d=\"M 3.484375 2.546875 C 2.4375 0.828125 1.84375 -1.1875 1.84375 -3.109375 C 1.84375 -5.015625 2.4375 -7.046875 3.484375 -8.75 L 2.828125 -8.75 C 1.625 -7.171875 0.875 -4.984375 0.875 -3.109375 C 0.875 -1.21875 1.625 0.96875 2.828125 2.546875 Z \"/>\n",
       "</symbol>\n",
       "<symbol overflow=\"visible\" id=\"glyph0-13\">\n",
       "<path style=\"stroke:none;\" d=\"M 3.40625 -2.875 L 3.40625 -3.75 L 0.546875 -3.75 L 0.546875 -2.875 Z \"/>\n",
       "</symbol>\n",
       "<symbol overflow=\"visible\" id=\"glyph0-14\">\n",
       "<path style=\"stroke:none;\" d=\"M 3.078125 -3.09375 C 3.078125 -4.984375 2.3125 -7.171875 1.109375 -8.75 L 0.453125 -8.75 C 1.515625 -7.03125 2.09375 -5.015625 2.09375 -3.09375 C 2.09375 -1.1875 1.515625 0.84375 0.453125 2.546875 L 1.109375 2.546875 C 2.3125 0.96875 3.078125 -1.21875 3.078125 -3.09375 Z \"/>\n",
       "</symbol>\n",
       "<symbol overflow=\"visible\" id=\"glyph0-15\">\n",
       "<path style=\"stroke:none;\" d=\"M 3.046875 0 L 3.046875 -0.84375 C 2.921875 -0.796875 2.765625 -0.796875 2.5625 -0.796875 C 2.140625 -0.796875 2.015625 -0.90625 2.015625 -1.359375 L 2.015625 -5.46875 L 3.046875 -5.46875 L 3.046875 -6.28125 L 2.015625 -6.28125 L 2.015625 -8.015625 L 1.015625 -8.015625 L 1.015625 -6.28125 L 0.171875 -6.28125 L 0.171875 -5.46875 L 1.015625 -5.46875 L 1.015625 -0.90625 C 1.015625 -0.28125 1.453125 0.078125 2.234375 0.078125 C 2.46875 0.078125 2.71875 0.0625 3.046875 0 Z \"/>\n",
       "</symbol>\n",
       "<symbol overflow=\"visible\" id=\"glyph0-16\">\n",
       "<path style=\"stroke:none;\" d=\"M 3.859375 -5.40625 L 3.859375 -6.4375 C 3.6875 -6.453125 3.59375 -6.46875 3.46875 -6.46875 C 2.8125 -6.46875 2.328125 -6.078125 1.75 -5.140625 L 1.75 -6.28125 L 0.84375 -6.28125 L 0.84375 0 L 1.84375 0 L 1.84375 -3.265625 C 1.84375 -4.6875 2.296875 -5.390625 3.859375 -5.40625 Z \"/>\n",
       "</symbol>\n",
       "<symbol overflow=\"visible\" id=\"glyph0-17\">\n",
       "<path style=\"stroke:none;\" d=\"M 1.84375 0 L 1.84375 -6.28125 L 0.84375 -6.28125 L 0.84375 0 Z M 1.96875 -7.234375 L 1.96875 -8.484375 L 0.71875 -8.484375 L 0.71875 -7.234375 Z \"/>\n",
       "</symbol>\n",
       "<symbol overflow=\"visible\" id=\"glyph0-18\">\n",
       "<path style=\"stroke:none;\" d=\"M 5.828125 -6.28125 L 4.703125 -6.28125 L 2.921875 -1.1875 L 1.25 -6.28125 L 0.125 -6.28125 L 2.328125 0 L 3.421875 0 Z \"/>\n",
       "</symbol>\n",
       "<symbol overflow=\"visible\" id=\"glyph0-19\">\n",
       "<path style=\"stroke:none;\" d=\"M 6.421875 -0.03125 L 6.421875 -0.78125 C 6.3125 -0.75 6.265625 -0.75 6.203125 -0.75 C 5.859375 -0.75 5.65625 -0.9375 5.65625 -1.25 L 5.65625 -4.75 C 5.65625 -5.875 4.84375 -6.46875 3.296875 -6.46875 C 1.78125 -6.46875 0.84375 -5.875 0.78125 -4.421875 L 1.78125 -4.421875 C 1.875 -5.203125 2.328125 -5.546875 3.265625 -5.546875 C 4.15625 -5.546875 4.671875 -5.203125 4.671875 -4.609375 L 4.671875 -4.34375 C 4.671875 -3.921875 4.421875 -3.75 3.625 -3.640625 C 2.203125 -3.46875 1.984375 -3.421875 1.609375 -3.265625 C 0.875 -2.96875 0.5 -2.40625 0.5 -1.625 C 0.5 -0.484375 1.296875 0.1875 2.5625 0.1875 C 3.375 0.1875 4.15625 -0.15625 4.703125 -0.75 C 4.8125 -0.265625 5.25 0.078125 5.734375 0.078125 C 5.9375 0.078125 6.09375 0.0625 6.421875 -0.03125 Z M 4.671875 -2.171875 C 4.671875 -1.265625 3.75 -0.703125 2.78125 -0.703125 C 2 -0.703125 1.546875 -0.96875 1.546875 -1.65625 C 1.546875 -2.3125 1.984375 -2.609375 3.0625 -2.765625 C 4.109375 -2.90625 4.328125 -2.953125 4.671875 -3.109375 Z \"/>\n",
       "</symbol>\n",
       "<symbol overflow=\"visible\" id=\"glyph0-20\">\n",
       "<path style=\"stroke:none;\" d=\"M 1.8125 0 L 1.8125 -8.75 L 0.8125 -8.75 L 0.8125 0 Z \"/>\n",
       "</symbol>\n",
       "<symbol overflow=\"visible\" id=\"glyph0-21\">\n",
       "<path style=\"stroke:none;\" d=\"M 5.875 -1.03125 L 5.875 -6.28125 L 4.9375 -6.28125 L 4.9375 -5.375 C 4.4375 -6.125 3.828125 -6.46875 3.03125 -6.46875 C 1.421875 -6.46875 0.34375 -5.125 0.34375 -3.078125 C 0.34375 -1.109375 1.46875 0.1875 2.9375 0.1875 C 3.734375 0.1875 4.28125 -0.15625 4.9375 -0.953125 L 4.9375 -0.53125 C 4.9375 1.140625 4.265625 1.78125 3.09375 1.78125 C 2.296875 1.78125 1.6875 1.484375 1.578125 0.71875 L 0.546875 0.71875 C 0.65625 1.90625 1.578125 2.609375 3.0625 2.609375 C 5.03125 2.609375 5.875 1.734375 5.875 -1.03125 Z M 4.84375 -3.109375 C 4.84375 -1.609375 4.203125 -0.75 3.140625 -0.75 C 2.046875 -0.75 1.390625 -1.625 1.390625 -3.140625 C 1.390625 -4.65625 2.0625 -5.546875 3.125 -5.546875 C 4.21875 -5.546875 4.84375 -4.625 4.84375 -3.109375 Z \"/>\n",
       "</symbol>\n",
       "<symbol overflow=\"visible\" id=\"glyph0-22\">\n",
       "<path style=\"stroke:none;\" d=\"M 9.125 0 L 9.125 -4.71875 C 9.125 -5.84375 8.5 -6.46875 7.3125 -6.46875 C 6.484375 -6.46875 5.96875 -6.21875 5.390625 -5.515625 C 5.015625 -6.1875 4.515625 -6.46875 3.703125 -6.46875 C 2.859375 -6.46875 2.296875 -6.15625 1.765625 -5.40625 L 1.765625 -6.28125 L 0.859375 -6.28125 L 0.859375 0 L 1.84375 0 L 1.84375 -3.953125 C 1.84375 -4.859375 2.515625 -5.59375 3.328125 -5.59375 C 4.0625 -5.59375 4.484375 -5.140625 4.484375 -4.328125 L 4.484375 0 L 5.484375 0 L 5.484375 -3.953125 C 5.484375 -4.859375 6.15625 -5.59375 6.96875 -5.59375 C 7.703125 -5.59375 8.125 -5.125 8.125 -4.328125 L 8.125 0 Z \"/>\n",
       "</symbol>\n",
       "<symbol overflow=\"visible\" id=\"glyph0-23\">\n",
       "<path style=\"stroke:none;\" d=\"M 5.9375 0 L 5.9375 -8.75 L 4.9375 -8.75 L 4.9375 -5.5 C 4.53125 -6.125 3.859375 -6.46875 3.015625 -6.46875 C 1.375 -6.46875 0.3125 -5.203125 0.3125 -3.203125 C 0.3125 -1.078125 1.359375 0.1875 3.046875 0.1875 C 3.90625 0.1875 4.515625 -0.140625 5.046875 -0.921875 L 5.046875 0 Z M 4.9375 -3.125 C 4.9375 -1.671875 4.25 -0.75 3.1875 -0.75 C 2.09375 -0.75 1.359375 -1.6875 1.359375 -3.140625 C 1.359375 -4.609375 2.09375 -5.53125 3.1875 -5.53125 C 4.265625 -5.53125 4.9375 -4.578125 4.9375 -3.125 Z \"/>\n",
       "</symbol>\n",
       "<symbol overflow=\"visible\" id=\"glyph0-24\">\n",
       "<path style=\"stroke:none;\" d=\"M 3.09375 -5.46875 L 3.09375 -6.28125 L 2.046875 -6.28125 L 2.046875 -7.265625 C 2.046875 -7.6875 2.296875 -7.90625 2.75 -7.90625 C 2.828125 -7.90625 2.875 -7.90625 3.09375 -7.890625 L 3.09375 -8.71875 C 2.875 -8.765625 2.734375 -8.78125 2.53125 -8.78125 C 1.609375 -8.78125 1.0625 -8.25 1.0625 -7.359375 L 1.0625 -6.28125 L 0.21875 -6.28125 L 0.21875 -5.46875 L 1.0625 -5.46875 L 1.0625 0 L 2.046875 0 L 2.046875 -5.46875 Z \"/>\n",
       "</symbol>\n",
       "<symbol overflow=\"visible\" id=\"glyph0-25\">\n",
       "<path style=\"stroke:none;\" d=\"M 5.78125 0 L 5.78125 -6.28125 L 4.78125 -6.28125 L 4.78125 -2.8125 C 4.78125 -1.53125 4.109375 -0.703125 3.078125 -0.703125 C 2.28125 -0.703125 1.78125 -1.171875 1.78125 -1.9375 L 1.78125 -6.28125 L 0.78125 -6.28125 L 0.78125 -1.53125 C 0.78125 -0.484375 1.5625 0.1875 2.78125 0.1875 C 3.703125 0.1875 4.296875 -0.140625 4.890625 -0.96875 L 4.890625 0 Z \"/>\n",
       "</symbol>\n",
       "<symbol overflow=\"visible\" id=\"glyph1-0\">\n",
       "<path style=\"stroke:none;\" d=\"\"/>\n",
       "</symbol>\n",
       "<symbol overflow=\"visible\" id=\"glyph1-1\">\n",
       "<path style=\"stroke:none;\" d=\"M -4.09375 -6.078125 C -7.046875 -6.078125 -8.515625 -5.140625 -8.515625 -3.296875 C -8.515625 -1.46875 -7.015625 -0.515625 -4.15625 -0.515625 C -1.296875 -0.515625 0.1875 -1.46875 0.1875 -3.296875 C 0.1875 -5.09375 -1.296875 -6.078125 -4.09375 -6.078125 Z M -4.1875 -5 C -1.78125 -5 -0.703125 -4.453125 -0.703125 -3.28125 C -0.703125 -2.15625 -1.828125 -1.59375 -4.15625 -1.59375 C -6.484375 -1.59375 -7.578125 -2.15625 -7.578125 -3.296875 C -7.578125 -4.4375 -6.46875 -5 -4.1875 -5 Z \"/>\n",
       "</symbol>\n",
       "<symbol overflow=\"visible\" id=\"glyph1-2\">\n",
       "<path style=\"stroke:none;\" d=\"M 0 -2.296875 L -1.25 -2.296875 L -1.25 -1.046875 L 0 -1.046875 Z \"/>\n",
       "</symbol>\n",
       "<symbol overflow=\"visible\" id=\"glyph1-3\">\n",
       "<path style=\"stroke:none;\" d=\"M -6.015625 -6.125 C -7.453125 -6.125 -8.515625 -5.015625 -8.515625 -3.40625 C -8.515625 -1.671875 -7.625 -0.65625 -5.5625 -0.59375 L -5.5625 -1.65625 C -6.984375 -1.734375 -7.578125 -2.328125 -7.578125 -3.375 C -7.578125 -4.328125 -6.90625 -5.046875 -5.984375 -5.046875 C -5.3125 -5.046875 -4.734375 -4.65625 -4.3125 -3.90625 L -3.6875 -2.796875 C -2.671875 -1.015625 -1.875 -0.5 0 -0.40625 L 0 -6.078125 L -1.046875 -6.078125 L -1.046875 -1.59375 C -1.734375 -1.703125 -2.1875 -2.09375 -2.796875 -3.125 L -3.4375 -4.328125 C -4.078125 -5.515625 -4.96875 -6.125 -6.015625 -6.125 Z \"/>\n",
       "</symbol>\n",
       "<symbol overflow=\"visible\" id=\"glyph1-4\">\n",
       "<path style=\"stroke:none;\" d=\"M -2.046875 -6.234375 L -2.984375 -6.234375 L -2.984375 -4.984375 L -8.515625 -4.984375 L -8.515625 -4.203125 L -3.15625 -0.34375 L -2.046875 -0.34375 L -2.046875 -3.921875 L 0 -3.921875 L 0 -4.984375 L -2.046875 -4.984375 Z M -2.984375 -3.921875 L -2.984375 -1.265625 L -6.703125 -3.921875 Z \"/>\n",
       "</symbol>\n",
       "<symbol overflow=\"visible\" id=\"glyph1-5\">\n",
       "<path style=\"stroke:none;\" d=\"M -2.640625 -6.15625 C -4.21875 -6.15625 -5.296875 -5.078125 -5.296875 -3.546875 C -5.296875 -2.71875 -4.96875 -2.046875 -4.34375 -1.59375 C -6.421875 -1.609375 -7.578125 -2.28125 -7.578125 -3.484375 C -7.578125 -4.234375 -7.109375 -4.75 -6.28125 -4.921875 L -6.28125 -5.96875 C -7.6875 -5.765625 -8.515625 -4.859375 -8.515625 -3.5625 C -8.515625 -1.578125 -6.84375 -0.515625 -3.875 -0.515625 C -1.21875 -0.515625 0.1875 -1.421875 0.1875 -3.375 C 0.1875 -4.984375 -0.96875 -6.15625 -2.640625 -6.15625 Z M -2.5625 -5.078125 C -1.484375 -5.078125 -0.75 -4.359375 -0.75 -3.390625 C -0.75 -2.40625 -1.53125 -1.65625 -2.609375 -1.65625 C -3.671875 -1.65625 -4.359375 -2.375 -4.359375 -3.421875 C -4.359375 -4.4375 -3.703125 -5.078125 -2.5625 -5.078125 Z \"/>\n",
       "</symbol>\n",
       "<symbol overflow=\"visible\" id=\"glyph1-6\">\n",
       "<path style=\"stroke:none;\" d=\"M -2.40625 -6.15625 C -3.34375 -6.15625 -4.015625 -5.671875 -4.46875 -4.6875 C -5 -5.5625 -5.4375 -5.859375 -6.234375 -5.859375 C -7.578125 -5.859375 -8.515625 -4.8125 -8.515625 -3.296875 C -8.515625 -1.796875 -7.578125 -0.75 -6.234375 -0.75 C -5.453125 -0.75 -5.015625 -1.03125 -4.46875 -1.890625 C -4.015625 -0.921875 -3.34375 -0.4375 -2.40625 -0.4375 C -0.859375 -0.4375 0.1875 -1.625 0.1875 -3.296875 C 0.1875 -4.984375 -0.859375 -6.15625 -2.40625 -6.15625 Z M -6.21875 -4.78125 C -5.421875 -4.78125 -4.890625 -4.1875 -4.890625 -3.296875 C -4.890625 -2.40625 -5.421875 -1.828125 -6.234375 -1.828125 C -7.046875 -1.828125 -7.578125 -2.40625 -7.578125 -3.296875 C -7.578125 -4.203125 -7.046875 -4.78125 -6.21875 -4.78125 Z M -2.390625 -5.078125 C -1.375 -5.078125 -0.75 -4.359375 -0.75 -3.28125 C -0.75 -2.25 -1.390625 -1.53125 -2.390625 -1.53125 C -3.390625 -1.53125 -4.015625 -2.25 -4.015625 -3.296875 C -4.015625 -4.359375 -3.390625 -5.078125 -2.390625 -5.078125 Z \"/>\n",
       "</symbol>\n",
       "<symbol overflow=\"visible\" id=\"glyph1-7\">\n",
       "<path style=\"stroke:none;\" d=\"M 0 -4.15625 L -8.515625 -4.15625 L -8.515625 -3.46875 C -7.203125 -3.09375 -7.015625 -2.859375 -6.8125 -1.21875 L -6.0625 -1.21875 L -6.0625 -3.109375 L 0 -3.109375 Z \"/>\n",
       "</symbol>\n",
       "<symbol overflow=\"visible\" id=\"glyph1-8\">\n",
       "<path style=\"stroke:none;\" d=\"M -7.765625 -7.109375 L -8.75 -7.109375 L -8.75 -0.25 L -7.765625 -0.25 L -7.765625 -3.125 L 0 -3.125 L 0 -4.25 L -7.765625 -4.25 Z \"/>\n",
       "</symbol>\n",
       "<symbol overflow=\"visible\" id=\"glyph1-9\">\n",
       "<path style=\"stroke:none;\" d=\"M -6.1875 -7.40625 C -7.828125 -7.40625 -8.75 -6.4375 -8.75 -4.703125 L -8.75 -1.09375 L 0 -1.09375 L 0 -2.203125 L -3.703125 -2.203125 L -3.703125 -4.953125 C -3.703125 -6.390625 -4.734375 -7.40625 -6.1875 -7.40625 Z M -6.234375 -6.234375 C -5.265625 -6.234375 -4.6875 -5.609375 -4.6875 -4.53125 L -4.6875 -2.203125 L -7.765625 -2.203125 L -7.765625 -4.53125 C -7.765625 -5.609375 -7.1875 -6.234375 -6.234375 -6.234375 Z \"/>\n",
       "</symbol>\n",
       "<symbol overflow=\"visible\" id=\"glyph1-10\">\n",
       "<path style=\"stroke:none;\" d=\"M 0 -8.140625 L -0.28125 -8.140625 C -0.5625 -7.734375 -0.875 -7.625 -2.046875 -7.625 C -3.484375 -7.59375 -3.90625 -7.375 -4.3125 -6.4375 C -4.796875 -7.421875 -5.40625 -7.8125 -6.40625 -7.8125 C -7.921875 -7.8125 -8.75 -6.859375 -8.75 -5.140625 L -8.75 -1.109375 L 0 -1.109375 L 0 -2.234375 L -3.765625 -2.234375 L -3.765625 -5.109375 C -3.765625 -6.09375 -3.28125 -6.5625 -2.203125 -6.546875 L -1.421875 -6.546875 C -0.890625 -6.53125 -0.359375 -6.640625 0 -6.796875 Z M -6.25 -6.640625 C -5.21875 -6.640625 -4.75 -6.125 -4.75 -4.9375 L -4.75 -2.234375 L -7.765625 -2.234375 L -7.765625 -4.9375 C -7.765625 -6.1875 -7.234375 -6.640625 -6.25 -6.640625 Z \"/>\n",
       "</symbol>\n",
       "<symbol overflow=\"visible\" id=\"glyph1-11\">\n",
       "<path style=\"stroke:none;\" d=\"\"/>\n",
       "</symbol>\n",
       "<symbol overflow=\"visible\" id=\"glyph1-12\">\n",
       "<path style=\"stroke:none;\" d=\"M 2.546875 -3.484375 C 0.828125 -2.4375 -1.1875 -1.84375 -3.109375 -1.84375 C -5.015625 -1.84375 -7.046875 -2.4375 -8.75 -3.484375 L -8.75 -2.828125 C -7.171875 -1.625 -4.984375 -0.875 -3.109375 -0.875 C -1.21875 -0.875 0.96875 -1.625 2.546875 -2.828125 Z \"/>\n",
       "</symbol>\n",
       "<symbol overflow=\"visible\" id=\"glyph1-13\">\n",
       "<path style=\"stroke:none;\" d=\"M -2.875 -3.40625 L -3.75 -3.40625 L -3.75 -0.546875 L -2.875 -0.546875 Z \"/>\n",
       "</symbol>\n",
       "<symbol overflow=\"visible\" id=\"glyph1-14\">\n",
       "<path style=\"stroke:none;\" d=\"M -7.765625 -6.953125 L -8.75 -6.953125 L -8.75 -1.078125 L 0 -1.078125 L 0 -2.203125 L -3.984375 -2.203125 L -3.984375 -6.375 L -4.96875 -6.375 L -4.96875 -2.203125 L -7.765625 -2.203125 Z \"/>\n",
       "</symbol>\n",
       "<symbol overflow=\"visible\" id=\"glyph1-15\">\n",
       "<path style=\"stroke:none;\" d=\"M -3.09375 -3.078125 C -4.984375 -3.078125 -7.171875 -2.3125 -8.75 -1.109375 L -8.75 -0.453125 C -7.03125 -1.515625 -5.015625 -2.09375 -3.09375 -2.09375 C -1.1875 -2.09375 0.84375 -1.515625 2.546875 -0.453125 L 2.546875 -1.109375 C 0.96875 -2.3125 -1.21875 -3.078125 -3.09375 -3.078125 Z \"/>\n",
       "</symbol>\n",
       "<symbol overflow=\"visible\" id=\"glyph2-0\">\n",
       "<path style=\"stroke:none;\" d=\"\"/>\n",
       "</symbol>\n",
       "<symbol overflow=\"visible\" id=\"glyph2-1\">\n",
       "<path style=\"stroke:none;\" d=\"M 9.75 0 L 9.75 -0.390625 C 9.421875 -0.578125 9.296875 -0.796875 9.296875 -1.25 C 9.234375 -4.34375 9.171875 -4.5 7.84375 -5.078125 C 9.015625 -5.53125 9.609375 -6.375 9.609375 -7.671875 C 9.609375 -9.296875 8.640625 -10.5 6.78125 -10.5 L 1.15625 -10.5 L 1.15625 0 L 3.3125 0 L 3.3125 -4.15625 L 5.796875 -4.15625 C 6.734375 -4.15625 7.125 -3.78125 7.125 -2.90625 L 7.109375 -1.796875 C 7.109375 -0.828125 7.15625 -0.5 7.4375 0 Z M 7.453125 -7.359375 C 7.453125 -6.421875 7.140625 -5.96875 5.921875 -5.96875 L 3.3125 -5.96875 L 3.3125 -8.703125 L 5.921875 -8.703125 C 7.109375 -8.703125 7.453125 -8.265625 7.453125 -7.359375 Z \"/>\n",
       "</symbol>\n",
       "<symbol overflow=\"visible\" id=\"glyph2-2\">\n",
       "<path style=\"stroke:none;\" d=\"M 10.6875 -5.1875 C 10.6875 -8.359375 8.6875 -10.671875 5.625 -10.671875 C 2.53125 -10.671875 0.578125 -8.265625 0.578125 -5.265625 C 0.578125 -2.125 2.546875 0.171875 5.640625 0.171875 C 8.6875 0.171875 10.6875 -2.125 10.6875 -5.1875 Z M 8.53125 -5.203125 C 8.53125 -3.046875 7.359375 -1.671875 5.640625 -1.671875 C 3.890625 -1.671875 2.734375 -3.046875 2.734375 -5.265625 C 2.734375 -7.375 3.890625 -8.828125 5.640625 -8.828125 C 7.40625 -8.828125 8.53125 -7.390625 8.53125 -5.203125 Z \"/>\n",
       "</symbol>\n",
       "<symbol overflow=\"visible\" id=\"glyph2-3\">\n",
       "<path style=\"stroke:none;\" d=\"M 9.875 -3.59375 L 7.765625 -3.59375 C 7.640625 -2.25 6.78125 -1.640625 5.453125 -1.640625 C 3.78125 -1.640625 2.796875 -2.921875 2.796875 -5.21875 C 2.796875 -7.53125 3.8125 -8.828125 5.515625 -8.828125 C 6.6875 -8.828125 7.453125 -8.296875 7.765625 -6.9375 L 9.828125 -6.9375 C 9.640625 -9.359375 7.8125 -10.671875 5.453125 -10.671875 C 2.484375 -10.671875 0.640625 -8.640625 0.640625 -5.25 C 0.640625 -1.875 2.46875 0.171875 5.390625 0.171875 C 8 0.171875 9.734375 -1.1875 9.875 -3.59375 Z \"/>\n",
       "</symbol>\n",
       "<symbol overflow=\"visible\" id=\"glyph2-4\">\n",
       "<path style=\"stroke:none;\" d=\"\"/>\n",
       "</symbol>\n",
       "<symbol overflow=\"visible\" id=\"glyph2-5\">\n",
       "<path style=\"stroke:none;\" d=\"M 4.359375 2.875 C 2.84375 -0.09375 2.34375 -1.703125 2.34375 -3.8125 C 2.34375 -5.921875 2.84375 -7.5625 4.359375 -10.5 L 2.921875 -10.5 C 1.265625 -8.015625 0.578125 -6.015625 0.578125 -3.8125 C 0.578125 -1.59375 1.265625 0.390625 2.921875 2.875 Z \"/>\n",
       "</symbol>\n",
       "<symbol overflow=\"visible\" id=\"glyph2-6\">\n",
       "<path style=\"stroke:none;\" d=\"M 7.515625 -2.6875 L 5.59375 -2.6875 C 5.328125 -1.890625 4.921875 -1.5 4.15625 -1.5 C 3.125 -1.5 2.5 -2.3125 2.5 -3.828125 C 2.5 -5.265625 2.875 -6.28125 4.15625 -6.28125 C 4.96875 -6.28125 5.359375 -5.890625 5.59375 -4.875 L 7.515625 -4.875 C 7.375 -6.765625 6.109375 -7.90625 4.15625 -7.90625 C 1.84375 -7.90625 0.484375 -6.484375 0.484375 -3.828125 C 0.484375 -1.265625 1.828125 0.125 4.140625 0.125 C 6.015625 0.125 7.328125 -1.03125 7.515625 -2.6875 Z \"/>\n",
       "</symbol>\n",
       "<symbol overflow=\"visible\" id=\"glyph2-7\">\n",
       "<path style=\"stroke:none;\" d=\"M 8.203125 -3.828125 C 8.203125 -6.46875 6.765625 -7.90625 4.34375 -7.90625 C 1.953125 -7.90625 0.5 -6.4375 0.5 -3.890625 C 0.5 -1.328125 1.953125 0.125 4.34375 0.125 C 6.71875 0.125 8.203125 -1.34375 8.203125 -3.828125 Z M 6.1875 -3.859375 C 6.1875 -2.40625 5.4375 -1.5 4.34375 -1.5 C 3.25 -1.5 2.515625 -2.40625 2.515625 -3.890625 C 2.515625 -5.375 3.25 -6.28125 4.34375 -6.28125 C 5.453125 -6.28125 6.1875 -5.390625 6.1875 -3.859375 Z \"/>\n",
       "</symbol>\n",
       "<symbol overflow=\"visible\" id=\"glyph2-8\">\n",
       "<path style=\"stroke:none;\" d=\"M 7.859375 0 L 7.859375 -5.21875 C 7.859375 -6.921875 6.921875 -7.90625 5.265625 -7.90625 C 4.203125 -7.90625 3.5 -7.515625 2.921875 -6.65625 L 2.921875 -7.78125 L 0.90625 -7.78125 L 0.90625 0 L 2.921875 0 L 2.921875 -4.671875 C 2.921875 -5.59375 3.578125 -6.1875 4.546875 -6.1875 C 5.421875 -6.1875 5.84375 -5.71875 5.84375 -4.796875 L 5.84375 0 Z \"/>\n",
       "</symbol>\n",
       "<symbol overflow=\"visible\" id=\"glyph2-9\">\n",
       "<path style=\"stroke:none;\" d=\"M 4.34375 0 L 4.34375 -1.40625 C 4.140625 -1.390625 4.015625 -1.375 3.875 -1.375 C 3.34375 -1.375 3.21875 -1.53125 3.21875 -2.21875 L 3.21875 -6.28125 L 4.34375 -6.28125 L 4.34375 -7.625 L 3.21875 -7.625 L 3.21875 -9.703125 L 1.203125 -9.703125 L 1.203125 -7.625 L 0.203125 -7.625 L 0.203125 -6.28125 L 1.203125 -6.28125 L 1.203125 -1.671875 C 1.203125 -0.453125 1.84375 0.0625 3.171875 0.0625 C 3.609375 0.0625 3.96875 0.015625 4.34375 0 Z \"/>\n",
       "</symbol>\n",
       "<symbol overflow=\"visible\" id=\"glyph2-10\">\n",
       "<path style=\"stroke:none;\" d=\"M 2.984375 0 L 2.984375 -7.78125 L 0.96875 -7.78125 L 0.96875 0 Z M 3.015625 -8.71875 L 3.015625 -10.734375 L 1 -10.734375 L 1 -8.71875 Z \"/>\n",
       "</symbol>\n",
       "<symbol overflow=\"visible\" id=\"glyph2-11\">\n",
       "<path style=\"stroke:none;\" d=\"M 7.796875 0 L 7.796875 -7.78125 L 5.78125 -7.78125 L 5.78125 -3.109375 C 5.78125 -2.1875 5.125 -1.578125 4.15625 -1.578125 C 3.28125 -1.578125 2.859375 -2.046875 2.859375 -2.984375 L 2.859375 -7.78125 L 0.828125 -7.78125 L 0.828125 -2.5625 C 0.828125 -0.84375 1.78125 0.125 3.4375 0.125 C 4.5 0.125 5.203125 -0.265625 5.78125 -1.015625 L 5.78125 0 Z \"/>\n",
       "</symbol>\n",
       "<symbol overflow=\"visible\" id=\"glyph2-12\">\n",
       "<path style=\"stroke:none;\" d=\"M 7.484375 -2.3125 L 7.484375 -2.40625 C 7.484375 -3.296875 6.984375 -3.96875 5.96875 -4.265625 L 3.421875 -5 C 2.859375 -5.15625 2.703125 -5.28125 2.703125 -5.609375 C 2.703125 -6.03125 3.171875 -6.328125 3.875 -6.328125 C 4.84375 -6.328125 5.3125 -5.984375 5.328125 -5.265625 L 7.28125 -5.265625 C 7.25 -6.921875 5.984375 -7.90625 3.890625 -7.90625 C 1.921875 -7.90625 0.6875 -6.921875 0.6875 -5.3125 C 0.6875 -4.359375 0.953125 -3.84375 2.390625 -3.40625 L 4.796875 -2.65625 C 5.296875 -2.5 5.46875 -2.328125 5.46875 -2.125 C 5.46875 -1.640625 4.90625 -1.453125 3.96875 -1.453125 C 3.046875 -1.453125 2.5625 -1.625 2.390625 -2.46875 L 0.421875 -2.46875 C 0.46875 -0.765625 1.734375 0.125 4.09375 0.125 C 6.28125 0.125 7.484375 -0.734375 7.484375 -2.3125 Z \"/>\n",
       "</symbol>\n",
       "<symbol overflow=\"visible\" id=\"glyph2-13\">\n",
       "<path style=\"stroke:none;\" d=\"M 4.109375 -3.796875 C 4.109375 -6.015625 3.421875 -8.015625 1.75 -10.5 L 0.3125 -10.5 C 1.84375 -7.53125 2.328125 -5.921875 2.328125 -3.796875 C 2.328125 -1.703125 1.84375 -0.0625 0.3125 2.875 L 1.75 2.875 C 3.421875 0.390625 4.109375 -1.59375 4.109375 -3.796875 Z \"/>\n",
       "</symbol>\n",
       "<symbol overflow=\"visible\" id=\"glyph2-14\">\n",
       "<path style=\"stroke:none;\" d=\"M 7.546875 0 L 7.546875 -0.25 C 7.1875 -0.578125 7.09375 -0.796875 7.09375 -1.203125 L 7.09375 -5.515625 C 7.09375 -7.109375 6 -7.90625 3.90625 -7.90625 C 1.796875 -7.90625 0.703125 -7.015625 0.578125 -5.21875 L 2.515625 -5.21875 C 2.625 -6.015625 2.953125 -6.28125 3.953125 -6.28125 C 4.71875 -6.28125 5.109375 -6.015625 5.109375 -5.5 C 5.109375 -4.6875 4.515625 -4.765625 3.5 -4.59375 L 2.6875 -4.453125 C 1.15625 -4.171875 0.40625 -3.515625 0.40625 -2.109375 C 0.40625 -0.59375 1.46875 0.125 2.765625 0.125 C 3.625 0.125 4.421875 -0.25 5.125 -0.984375 C 5.125 -0.578125 5.171875 -0.234375 5.359375 0 Z M 5.109375 -3.328125 C 5.109375 -2.15625 4.53125 -1.5 3.515625 -1.5 C 2.84375 -1.5 2.421875 -1.75 2.421875 -2.328125 C 2.421875 -2.921875 2.734375 -3.140625 3.578125 -3.296875 L 4.265625 -3.421875 C 4.796875 -3.53125 4.890625 -3.5625 5.109375 -3.671875 Z \"/>\n",
       "</symbol>\n",
       "<symbol overflow=\"visible\" id=\"glyph2-15\">\n",
       "<path style=\"stroke:none;\" d=\"M 7.84375 0 L 7.84375 -10.5 L 5.828125 -10.5 L 5.828125 -6.765625 C 5.328125 -7.546875 4.65625 -7.90625 3.6875 -7.90625 C 1.828125 -7.90625 0.421875 -6.21875 0.421875 -3.875 C 0.421875 -1.671875 1.625 0.125 3.6875 0.125 C 4.65625 0.125 5.328125 -0.234375 5.828125 -0.890625 L 5.828125 0 Z M 5.828125 -3.84375 C 5.828125 -2.4375 5.140625 -1.5625 4.140625 -1.5625 C 3.125 -1.5625 2.4375 -2.453125 2.4375 -3.875 C 2.4375 -5.3125 3.125 -6.21875 4.140625 -6.21875 C 5.15625 -6.21875 5.828125 -5.328125 5.828125 -3.84375 Z \"/>\n",
       "</symbol>\n",
       "<symbol overflow=\"visible\" id=\"glyph2-16\">\n",
       "<path style=\"stroke:none;\" d=\"M 9.46875 0 L 9.46875 -10.5 L 7.296875 -10.5 L 7.296875 -6.5625 L 3.140625 -6.5625 L 3.140625 -10.5 L 0.984375 -10.5 L 0.984375 0 L 3.140625 0 L 3.140625 -4.765625 L 7.296875 -4.765625 L 7.296875 0 Z \"/>\n",
       "</symbol>\n",
       "<symbol overflow=\"visible\" id=\"glyph2-17\">\n",
       "<path style=\"stroke:none;\" d=\"M 7.5625 -3.59375 C 7.5625 -6.28125 6.203125 -7.90625 3.921875 -7.90625 C 1.6875 -7.90625 0.3125 -6.390625 0.3125 -3.78125 C 0.3125 -1.296875 1.671875 0.125 3.875 0.125 C 5.625 0.125 7.03125 -0.65625 7.484375 -2.1875 L 5.484375 -2.1875 C 5.3125 -1.625 4.6875 -1.40625 3.953125 -1.40625 C 3 -1.40625 2.390625 -1.84375 2.328125 -3.359375 L 7.546875 -3.359375 Z M 5.453125 -4.703125 L 2.359375 -4.703125 C 2.5 -5.78125 3 -6.375 3.890625 -6.375 C 4.75 -6.375 5.359375 -5.8125 5.453125 -4.703125 Z \"/>\n",
       "</symbol>\n",
       "</g>\n",
       "<clipPath id=\"clip1\">\n",
       "  <path d=\"M 396 358 L 474.757812 358 L 474.757812 431 L 396 431 Z \"/>\n",
       "</clipPath>\n",
       "</defs>\n",
       "<g id=\"surface354\">\n",
       "<rect x=\"0\" y=\"0\" width=\"504\" height=\"504\" style=\"fill:rgb(100%,100%,100%);fill-opacity:1;stroke:none;\"/>\n",
       "<path style=\"fill:none;stroke-width:0.75;stroke-linecap:round;stroke-linejoin:round;stroke:rgb(0%,0%,0%);stroke-opacity:1;stroke-dasharray:0.75,2.25,3,2.25;stroke-miterlimit:10;\" d=\"M 74.398438 416.800781 L 458.398438 72.800781 \"/>\n",
       "<path style=\"fill:none;stroke-width:0.75;stroke-linecap:round;stroke-linejoin:round;stroke:rgb(0%,0%,0%);stroke-opacity:1;stroke-miterlimit:10;\" d=\"M 74.398438 430.558594 L 458.398438 430.558594 \"/>\n",
       "<path style=\"fill:none;stroke-width:0.75;stroke-linecap:round;stroke-linejoin:round;stroke:rgb(0%,0%,0%);stroke-opacity:1;stroke-miterlimit:10;\" d=\"M 74.398438 430.558594 L 74.398438 437.761719 \"/>\n",
       "<path style=\"fill:none;stroke-width:0.75;stroke-linecap:round;stroke-linejoin:round;stroke:rgb(0%,0%,0%);stroke-opacity:1;stroke-miterlimit:10;\" d=\"M 151.199219 430.558594 L 151.199219 437.761719 \"/>\n",
       "<path style=\"fill:none;stroke-width:0.75;stroke-linecap:round;stroke-linejoin:round;stroke:rgb(0%,0%,0%);stroke-opacity:1;stroke-miterlimit:10;\" d=\"M 228 430.558594 L 228 437.761719 \"/>\n",
       "<path style=\"fill:none;stroke-width:0.75;stroke-linecap:round;stroke-linejoin:round;stroke:rgb(0%,0%,0%);stroke-opacity:1;stroke-miterlimit:10;\" d=\"M 304.800781 430.558594 L 304.800781 437.761719 \"/>\n",
       "<path style=\"fill:none;stroke-width:0.75;stroke-linecap:round;stroke-linejoin:round;stroke:rgb(0%,0%,0%);stroke-opacity:1;stroke-miterlimit:10;\" d=\"M 381.601562 430.558594 L 381.601562 437.761719 \"/>\n",
       "<path style=\"fill:none;stroke-width:0.75;stroke-linecap:round;stroke-linejoin:round;stroke:rgb(0%,0%,0%);stroke-opacity:1;stroke-miterlimit:10;\" d=\"M 458.398438 430.558594 L 458.398438 437.761719 \"/>\n",
       "<g style=\"fill:rgb(0%,0%,0%);fill-opacity:1;\">\n",
       "  <use xlink:href=\"#glyph0-1\" x=\"65.898438\" y=\"456.256836\"/>\n",
       "  <use xlink:href=\"#glyph0-2\" x=\"72.570312\" y=\"456.256836\"/>\n",
       "  <use xlink:href=\"#glyph0-1\" x=\"75.90625\" y=\"456.256836\"/>\n",
       "</g>\n",
       "<g style=\"fill:rgb(0%,0%,0%);fill-opacity:1;\">\n",
       "  <use xlink:href=\"#glyph0-1\" x=\"142.699219\" y=\"456.256836\"/>\n",
       "  <use xlink:href=\"#glyph0-2\" x=\"149.371094\" y=\"456.256836\"/>\n",
       "  <use xlink:href=\"#glyph0-3\" x=\"152.707031\" y=\"456.256836\"/>\n",
       "</g>\n",
       "<g style=\"fill:rgb(0%,0%,0%);fill-opacity:1;\">\n",
       "  <use xlink:href=\"#glyph0-1\" x=\"219.5\" y=\"456.256836\"/>\n",
       "  <use xlink:href=\"#glyph0-2\" x=\"226.171875\" y=\"456.256836\"/>\n",
       "  <use xlink:href=\"#glyph0-4\" x=\"229.507812\" y=\"456.256836\"/>\n",
       "</g>\n",
       "<g style=\"fill:rgb(0%,0%,0%);fill-opacity:1;\">\n",
       "  <use xlink:href=\"#glyph0-1\" x=\"296.300781\" y=\"456.256836\"/>\n",
       "  <use xlink:href=\"#glyph0-2\" x=\"302.972656\" y=\"456.256836\"/>\n",
       "  <use xlink:href=\"#glyph0-5\" x=\"306.308594\" y=\"456.256836\"/>\n",
       "</g>\n",
       "<g style=\"fill:rgb(0%,0%,0%);fill-opacity:1;\">\n",
       "  <use xlink:href=\"#glyph0-1\" x=\"373.101562\" y=\"456.256836\"/>\n",
       "  <use xlink:href=\"#glyph0-2\" x=\"379.773438\" y=\"456.256836\"/>\n",
       "  <use xlink:href=\"#glyph0-6\" x=\"383.109375\" y=\"456.256836\"/>\n",
       "</g>\n",
       "<g style=\"fill:rgb(0%,0%,0%);fill-opacity:1;\">\n",
       "  <use xlink:href=\"#glyph0-7\" x=\"449.898438\" y=\"456.256836\"/>\n",
       "  <use xlink:href=\"#glyph0-2\" x=\"456.570312\" y=\"456.256836\"/>\n",
       "  <use xlink:href=\"#glyph0-1\" x=\"459.90625\" y=\"456.256836\"/>\n",
       "</g>\n",
       "<path style=\"fill:none;stroke-width:0.75;stroke-linecap:round;stroke-linejoin:round;stroke:rgb(0%,0%,0%);stroke-opacity:1;stroke-miterlimit:10;\" d=\"M 59.039062 416.800781 L 59.039062 72.800781 \"/>\n",
       "<path style=\"fill:none;stroke-width:0.75;stroke-linecap:round;stroke-linejoin:round;stroke:rgb(0%,0%,0%);stroke-opacity:1;stroke-miterlimit:10;\" d=\"M 59.039062 416.800781 L 51.839844 416.800781 \"/>\n",
       "<path style=\"fill:none;stroke-width:0.75;stroke-linecap:round;stroke-linejoin:round;stroke:rgb(0%,0%,0%);stroke-opacity:1;stroke-miterlimit:10;\" d=\"M 59.039062 348 L 51.839844 348 \"/>\n",
       "<path style=\"fill:none;stroke-width:0.75;stroke-linecap:round;stroke-linejoin:round;stroke:rgb(0%,0%,0%);stroke-opacity:1;stroke-miterlimit:10;\" d=\"M 59.039062 279.199219 L 51.839844 279.199219 \"/>\n",
       "<path style=\"fill:none;stroke-width:0.75;stroke-linecap:round;stroke-linejoin:round;stroke:rgb(0%,0%,0%);stroke-opacity:1;stroke-miterlimit:10;\" d=\"M 59.039062 210.398438 L 51.839844 210.398438 \"/>\n",
       "<path style=\"fill:none;stroke-width:0.75;stroke-linecap:round;stroke-linejoin:round;stroke:rgb(0%,0%,0%);stroke-opacity:1;stroke-miterlimit:10;\" d=\"M 59.039062 141.601562 L 51.839844 141.601562 \"/>\n",
       "<path style=\"fill:none;stroke-width:0.75;stroke-linecap:round;stroke-linejoin:round;stroke:rgb(0%,0%,0%);stroke-opacity:1;stroke-miterlimit:10;\" d=\"M 59.039062 72.800781 L 51.839844 72.800781 \"/>\n",
       "<g style=\"fill:rgb(0%,0%,0%);fill-opacity:1;\">\n",
       "  <use xlink:href=\"#glyph1-1\" x=\"41.538086\" y=\"425.300781\"/>\n",
       "  <use xlink:href=\"#glyph1-2\" x=\"41.538086\" y=\"418.628906\"/>\n",
       "  <use xlink:href=\"#glyph1-1\" x=\"41.538086\" y=\"415.292969\"/>\n",
       "</g>\n",
       "<g style=\"fill:rgb(0%,0%,0%);fill-opacity:1;\">\n",
       "  <use xlink:href=\"#glyph1-1\" x=\"41.538086\" y=\"356.5\"/>\n",
       "  <use xlink:href=\"#glyph1-2\" x=\"41.538086\" y=\"349.828125\"/>\n",
       "  <use xlink:href=\"#glyph1-3\" x=\"41.538086\" y=\"346.492188\"/>\n",
       "</g>\n",
       "<g style=\"fill:rgb(0%,0%,0%);fill-opacity:1;\">\n",
       "  <use xlink:href=\"#glyph1-1\" x=\"41.538086\" y=\"287.699219\"/>\n",
       "  <use xlink:href=\"#glyph1-2\" x=\"41.538086\" y=\"281.027344\"/>\n",
       "  <use xlink:href=\"#glyph1-4\" x=\"41.538086\" y=\"277.691406\"/>\n",
       "</g>\n",
       "<g style=\"fill:rgb(0%,0%,0%);fill-opacity:1;\">\n",
       "  <use xlink:href=\"#glyph1-1\" x=\"41.538086\" y=\"218.898438\"/>\n",
       "  <use xlink:href=\"#glyph1-2\" x=\"41.538086\" y=\"212.226562\"/>\n",
       "  <use xlink:href=\"#glyph1-5\" x=\"41.538086\" y=\"208.890625\"/>\n",
       "</g>\n",
       "<g style=\"fill:rgb(0%,0%,0%);fill-opacity:1;\">\n",
       "  <use xlink:href=\"#glyph1-1\" x=\"41.538086\" y=\"150.101562\"/>\n",
       "  <use xlink:href=\"#glyph1-2\" x=\"41.538086\" y=\"143.429688\"/>\n",
       "  <use xlink:href=\"#glyph1-6\" x=\"41.538086\" y=\"140.09375\"/>\n",
       "</g>\n",
       "<g style=\"fill:rgb(0%,0%,0%);fill-opacity:1;\">\n",
       "  <use xlink:href=\"#glyph1-7\" x=\"41.538086\" y=\"81.300781\"/>\n",
       "  <use xlink:href=\"#glyph1-2\" x=\"41.538086\" y=\"74.628906\"/>\n",
       "  <use xlink:href=\"#glyph1-1\" x=\"41.538086\" y=\"71.292969\"/>\n",
       "</g>\n",
       "<path style=\"fill:none;stroke-width:0.75;stroke-linecap:round;stroke-linejoin:round;stroke:rgb(0%,0%,0%);stroke-opacity:1;stroke-miterlimit:10;\" d=\"M 59.039062 430.558594 L 473.761719 430.558594 L 473.761719 59.039062 L 59.039062 59.039062 L 59.039062 430.558594 \"/>\n",
       "<g style=\"fill:rgb(0%,0%,0%);fill-opacity:1;\">\n",
       "  <use xlink:href=\"#glyph2-1\" x=\"137.898438\" y=\"34.21875\"/>\n",
       "  <use xlink:href=\"#glyph2-2\" x=\"148.299805\" y=\"34.21875\"/>\n",
       "  <use xlink:href=\"#glyph2-3\" x=\"159.507812\" y=\"34.21875\"/>\n",
       "  <use xlink:href=\"#glyph2-4\" x=\"169.90918\" y=\"34.21875\"/>\n",
       "  <use xlink:href=\"#glyph2-5\" x=\"173.914062\" y=\"34.21875\"/>\n",
       "  <use xlink:href=\"#glyph2-6\" x=\"178.710938\" y=\"34.21875\"/>\n",
       "  <use xlink:href=\"#glyph2-7\" x=\"186.720703\" y=\"34.21875\"/>\n",
       "  <use xlink:href=\"#glyph2-8\" x=\"195.522461\" y=\"34.21875\"/>\n",
       "  <use xlink:href=\"#glyph2-9\" x=\"204.324219\" y=\"34.21875\"/>\n",
       "  <use xlink:href=\"#glyph2-10\" x=\"209.121094\" y=\"34.21875\"/>\n",
       "  <use xlink:href=\"#glyph2-8\" x=\"213.125977\" y=\"34.21875\"/>\n",
       "  <use xlink:href=\"#glyph2-11\" x=\"221.927734\" y=\"34.21875\"/>\n",
       "  <use xlink:href=\"#glyph2-7\" x=\"230.729492\" y=\"34.21875\"/>\n",
       "  <use xlink:href=\"#glyph2-11\" x=\"239.53125\" y=\"34.21875\"/>\n",
       "  <use xlink:href=\"#glyph2-12\" x=\"248.333008\" y=\"34.21875\"/>\n",
       "  <use xlink:href=\"#glyph2-13\" x=\"256.342773\" y=\"34.21875\"/>\n",
       "  <use xlink:href=\"#glyph2-4\" x=\"261.139648\" y=\"34.21875\"/>\n",
       "  <use xlink:href=\"#glyph2-14\" x=\"265.144531\" y=\"34.21875\"/>\n",
       "  <use xlink:href=\"#glyph2-8\" x=\"273.154297\" y=\"34.21875\"/>\n",
       "  <use xlink:href=\"#glyph2-15\" x=\"281.956055\" y=\"34.21875\"/>\n",
       "  <use xlink:href=\"#glyph2-4\" x=\"290.757812\" y=\"34.21875\"/>\n",
       "  <use xlink:href=\"#glyph2-1\" x=\"294.762695\" y=\"34.21875\"/>\n",
       "  <use xlink:href=\"#glyph2-2\" x=\"305.164062\" y=\"34.21875\"/>\n",
       "  <use xlink:href=\"#glyph2-3\" x=\"316.37207\" y=\"34.21875\"/>\n",
       "  <use xlink:href=\"#glyph2-16\" x=\"326.773438\" y=\"34.21875\"/>\n",
       "  <use xlink:href=\"#glyph2-4\" x=\"337.174805\" y=\"34.21875\"/>\n",
       "  <use xlink:href=\"#glyph2-5\" x=\"341.179688\" y=\"34.21875\"/>\n",
       "  <use xlink:href=\"#glyph2-15\" x=\"345.976562\" y=\"34.21875\"/>\n",
       "  <use xlink:href=\"#glyph2-7\" x=\"354.77832\" y=\"34.21875\"/>\n",
       "  <use xlink:href=\"#glyph2-9\" x=\"363.580078\" y=\"34.21875\"/>\n",
       "  <use xlink:href=\"#glyph2-9\" x=\"368.376953\" y=\"34.21875\"/>\n",
       "  <use xlink:href=\"#glyph2-17\" x=\"373.173828\" y=\"34.21875\"/>\n",
       "  <use xlink:href=\"#glyph2-15\" x=\"381.183594\" y=\"34.21875\"/>\n",
       "  <use xlink:href=\"#glyph2-13\" x=\"389.985352\" y=\"34.21875\"/>\n",
       "</g>\n",
       "<g style=\"fill:rgb(0%,0%,0%);fill-opacity:1;\">\n",
       "  <use xlink:href=\"#glyph0-8\" x=\"236.398438\" y=\"485.057617\"/>\n",
       "  <use xlink:href=\"#glyph0-9\" x=\"243.730469\" y=\"485.057617\"/>\n",
       "  <use xlink:href=\"#glyph0-10\" x=\"251.734375\" y=\"485.057617\"/>\n",
       "  <use xlink:href=\"#glyph0-11\" x=\"260.398438\" y=\"485.057617\"/>\n",
       "  <use xlink:href=\"#glyph0-12\" x=\"263.734375\" y=\"485.057617\"/>\n",
       "  <use xlink:href=\"#glyph0-7\" x=\"267.730469\" y=\"485.057617\"/>\n",
       "  <use xlink:href=\"#glyph0-13\" x=\"274.402344\" y=\"485.057617\"/>\n",
       "  <use xlink:href=\"#glyph0-8\" x=\"278.398438\" y=\"485.057617\"/>\n",
       "  <use xlink:href=\"#glyph0-1\" x=\"285.730469\" y=\"485.057617\"/>\n",
       "  <use xlink:href=\"#glyph0-14\" x=\"292.402344\" y=\"485.057617\"/>\n",
       "</g>\n",
       "<g style=\"fill:rgb(0%,0%,0%);fill-opacity:1;\">\n",
       "  <use xlink:href=\"#glyph1-8\" x=\"12.737305\" y=\"274.800781\"/>\n",
       "  <use xlink:href=\"#glyph1-9\" x=\"12.737305\" y=\"267.46875\"/>\n",
       "  <use xlink:href=\"#glyph1-10\" x=\"12.737305\" y=\"259.464844\"/>\n",
       "  <use xlink:href=\"#glyph1-11\" x=\"12.737305\" y=\"250.800781\"/>\n",
       "  <use xlink:href=\"#glyph1-12\" x=\"12.737305\" y=\"247.464844\"/>\n",
       "  <use xlink:href=\"#glyph1-7\" x=\"12.737305\" y=\"243.46875\"/>\n",
       "  <use xlink:href=\"#glyph1-13\" x=\"12.737305\" y=\"236.796875\"/>\n",
       "  <use xlink:href=\"#glyph1-14\" x=\"12.737305\" y=\"232.800781\"/>\n",
       "  <use xlink:href=\"#glyph1-7\" x=\"12.737305\" y=\"225.46875\"/>\n",
       "  <use xlink:href=\"#glyph1-15\" x=\"12.737305\" y=\"218.796875\"/>\n",
       "</g>\n",
       "<path style=\"fill:none;stroke-width:0.75;stroke-linecap:round;stroke-linejoin:round;stroke:rgb(100%,0%,0%);stroke-opacity:1;stroke-miterlimit:10;\" d=\"M 458.398438 72.800781 L 457.3125 72.800781 L 457.3125 75.3125 L 456.222656 75.3125 L 456.222656 77.820312 L 455.136719 77.820312 L 455.136719 80.332031 L 452.960938 80.332031 L 452.960938 82.84375 L 435.554688 82.84375 L 435.554688 85.355469 L 422.503906 85.355469 L 422.503906 90.375 L 414.886719 90.375 L 414.886719 92.886719 L 413.800781 92.886719 L 413.800781 95.398438 L 412.710938 95.398438 L 412.710938 97.910156 L 393.132812 97.910156 L 393.132812 100.421875 L 389.867188 100.421875 L 389.867188 102.929688 L 386.605469 102.929688 L 386.605469 107.953125 L 381.164062 107.953125 L 381.164062 115.484375 L 378.988281 115.484375 L 378.988281 117.996094 L 376.8125 117.996094 L 376.8125 123.019531 L 373.550781 123.019531 L 373.550781 125.53125 L 369.199219 125.53125 L 369.199219 128.039062 L 364.847656 128.039062 L 364.847656 133.0625 L 357.234375 133.0625 L 357.234375 135.574219 L 347.441406 135.574219 L 347.441406 143.105469 L 343.089844 143.105469 L 343.089844 145.617188 L 342.003906 145.617188 L 342.003906 148.128906 L 339.828125 148.128906 L 339.828125 150.640625 L 312.632812 150.640625 L 312.632812 153.148438 L 311.542969 153.148438 L 311.542969 160.683594 L 309.367188 160.683594 L 309.367188 163.195312 L 301.753906 163.195312 L 301.753906 165.707031 L 293.050781 165.707031 L 293.050781 170.726562 L 291.964844 170.726562 L 291.964844 173.238281 L 278.910156 173.238281 L 278.910156 175.75 L 272.382812 175.75 L 272.382812 178.261719 L 261.503906 178.261719 L 261.503906 180.769531 L 256.066406 180.769531 L 256.066406 183.28125 L 252.800781 183.28125 L 252.800781 185.792969 L 238.660156 185.792969 L 238.660156 200.859375 L 233.222656 200.859375 L 233.222656 203.371094 L 232.132812 203.371094 L 232.132812 205.878906 L 231.046875 205.878906 L 231.046875 208.390625 L 224.519531 208.390625 L 224.519531 210.902344 L 223.429688 210.902344 L 223.429688 213.414062 L 222.34375 213.414062 L 222.34375 215.925781 L 221.253906 215.925781 L 221.253906 218.433594 L 211.464844 218.433594 L 211.464844 220.945312 L 207.113281 220.945312 L 207.113281 223.457031 L 204.9375 223.457031 L 204.9375 228.480469 L 200.585938 228.480469 L 197.324219 236.011719 L 196.234375 236.011719 L 196.234375 241.035156 L 195.148438 241.035156 L 195.148438 243.542969 L 194.058594 243.542969 L 194.058594 246.054688 L 191.882812 246.054688 L 191.882812 248.566406 L 190.796875 248.566406 L 190.796875 251.078125 L 183.183594 251.078125 L 183.183594 253.589844 L 177.742188 253.589844 L 177.742188 258.609375 L 173.390625 258.609375 L 173.390625 263.632812 L 172.304688 263.632812 L 172.304688 266.144531 L 164.6875 266.144531 L 164.6875 271.164062 L 161.425781 271.164062 L 161.425781 273.675781 L 158.160156 273.675781 L 158.160156 276.1875 L 153.8125 276.1875 L 153.8125 278.699219 L 152.722656 278.699219 L 152.722656 281.207031 L 151.636719 281.207031 L 151.636719 283.71875 L 145.109375 283.71875 L 145.109375 286.230469 L 144.019531 286.230469 L 144.019531 288.742188 L 136.40625 288.742188 L 136.40625 296.273438 L 127.703125 296.273438 L 127.703125 301.296875 L 125.527344 301.296875 L 125.527344 303.808594 L 123.351562 303.808594 L 123.351562 306.316406 L 119 306.316406 L 119 323.894531 L 113.5625 323.894531 L 113.5625 326.40625 L 110.296875 326.40625 L 110.296875 346.492188 L 104.859375 346.492188 L 104.859375 351.515625 L 103.769531 351.515625 L 103.769531 354.027344 L 102.683594 354.027344 L 102.683594 364.070312 L 101.59375 364.070312 L 101.59375 369.09375 L 99.417969 369.09375 L 99.417969 371.601562 L 95.070312 371.601562 L 95.070312 379.136719 L 93.980469 379.136719 L 93.980469 381.648438 L 91.804688 381.648438 L 91.804688 384.15625 L 88.542969 384.15625 L 88.542969 389.179688 L 85.277344 389.179688 L 85.277344 394.203125 L 83.101562 394.203125 L 83.101562 396.710938 L 82.015625 396.710938 L 82.015625 399.222656 L 78.75 399.222656 L 78.75 401.734375 L 77.664062 401.734375 L 77.664062 404.246094 L 76.574219 404.246094 L 76.574219 406.757812 L 75.488281 406.757812 L 75.488281 414.289062 L 74.398438 414.289062 L 74.398438 416.800781 \"/>\n",
       "<path style=\"fill:none;stroke-width:0.75;stroke-linecap:round;stroke-linejoin:round;stroke:rgb(100%,0%,0%);stroke-opacity:1;stroke-dasharray:0.75,2.25;stroke-miterlimit:10;\" d=\"M 74.398438 416.800781 L 74.398438 414.289062 L 75.488281 406.757812 L 77.664062 401.734375 L 119 306.316406 L 127.703125 296.273438 L 238.660156 185.792969 L 393.132812 97.910156 L 422.503906 85.355469 L 457.3125 72.800781 L 458.398438 72.800781 \"/>\n",
       "<path style=\"fill:none;stroke-width:0.75;stroke-linecap:round;stroke-linejoin:round;stroke:rgb(0%,0%,100%);stroke-opacity:1;stroke-miterlimit:10;\" d=\"M 458.398438 72.800781 L 438.820312 92.886719 L 187.53125 251.078125 L 181.007812 253.589844 L 164.6875 273.675781 L 159.25 276.1875 L 129.878906 301.296875 L 112.472656 326.40625 L 92.894531 396.710938 L 84.191406 401.734375 L 80.925781 404.246094 L 74.398438 416.800781 \"/>\n",
       "<path style=\"fill:none;stroke-width:0.75;stroke-linecap:round;stroke-linejoin:round;stroke:rgb(0%,0%,100%);stroke-opacity:1;stroke-dasharray:0.75,2.25;stroke-miterlimit:10;\" d=\"M 74.398438 416.800781 L 112.472656 326.40625 L 129.878906 301.296875 L 181.007812 253.589844 L 458.398438 72.800781 \"/>\n",
       "<path style=\"fill:none;stroke-width:0.75;stroke-linecap:round;stroke-linejoin:round;stroke:rgb(0%,100%,0%);stroke-opacity:1;stroke-miterlimit:10;\" d=\"M 458.398438 72.800781 L 209.289062 261.121094 L 200.585938 273.675781 L 192.972656 281.207031 L 189.707031 283.71875 L 179.917969 291.253906 L 179.917969 298.785156 L 174.480469 298.785156 L 174.480469 308.828125 L 74.398438 416.800781 \"/>\n",
       "<path style=\"fill:none;stroke-width:0.75;stroke-linecap:round;stroke-linejoin:round;stroke:rgb(0%,100%,0%);stroke-opacity:1;stroke-dasharray:0.75,2.25;stroke-miterlimit:10;\" d=\"M 74.398438 416.800781 L 179.917969 291.253906 L 209.289062 261.121094 L 458.398438 72.800781 \"/>\n",
       "<g clip-path=\"url(#clip1)\" clip-rule=\"nonzero\">\n",
       "<path style=\"fill:none;stroke-width:0.75;stroke-linecap:round;stroke-linejoin:round;stroke:rgb(0%,0%,0%);stroke-opacity:1;stroke-miterlimit:10;\" d=\"M 396.984375 358.558594 L 473.761719 358.558594 L 473.761719 430.558594 L 396.984375 430.558594 Z \"/>\n",
       "</g>\n",
       "<path style=\"fill:none;stroke-width:0.75;stroke-linecap:round;stroke-linejoin:round;stroke:rgb(0%,0%,0%);stroke-opacity:1;stroke-dasharray:0.75,2.25,3,2.25;stroke-miterlimit:10;\" d=\"M 407.785156 372.960938 L 429.382812 372.960938 \"/>\n",
       "<path style=\"fill:none;stroke-width:0.75;stroke-linecap:round;stroke-linejoin:round;stroke:rgb(100%,0%,0%);stroke-opacity:1;stroke-miterlimit:10;\" d=\"M 407.785156 387.359375 L 429.382812 387.359375 \"/>\n",
       "<path style=\"fill:none;stroke-width:0.75;stroke-linecap:round;stroke-linejoin:round;stroke:rgb(0%,0%,100%);stroke-opacity:1;stroke-miterlimit:10;\" d=\"M 407.785156 401.761719 L 429.382812 401.761719 \"/>\n",
       "<path style=\"fill:none;stroke-width:0.75;stroke-linecap:round;stroke-linejoin:round;stroke:rgb(0%,100%,0%);stroke-opacity:1;stroke-miterlimit:10;\" d=\"M 407.785156 416.160156 L 429.382812 416.160156 \"/>\n",
       "<g style=\"fill:rgb(0%,0%,0%);fill-opacity:1;\">\n",
       "  <use xlink:href=\"#glyph0-15\" x=\"440.183594\" y=\"377.237305\"/>\n",
       "  <use xlink:href=\"#glyph0-16\" x=\"443.519531\" y=\"377.237305\"/>\n",
       "  <use xlink:href=\"#glyph0-17\" x=\"447.515625\" y=\"377.237305\"/>\n",
       "  <use xlink:href=\"#glyph0-18\" x=\"450.179688\" y=\"377.237305\"/>\n",
       "  <use xlink:href=\"#glyph0-17\" x=\"456.179688\" y=\"377.237305\"/>\n",
       "  <use xlink:href=\"#glyph0-19\" x=\"458.84375\" y=\"377.237305\"/>\n",
       "  <use xlink:href=\"#glyph0-20\" x=\"465.515625\" y=\"377.237305\"/>\n",
       "</g>\n",
       "<g style=\"fill:rgb(0%,0%,0%);fill-opacity:1;\">\n",
       "  <use xlink:href=\"#glyph0-21\" x=\"440.183594\" y=\"391.635742\"/>\n",
       "  <use xlink:href=\"#glyph0-20\" x=\"446.855469\" y=\"391.635742\"/>\n",
       "  <use xlink:href=\"#glyph0-22\" x=\"449.519531\" y=\"391.635742\"/>\n",
       "</g>\n",
       "<g style=\"fill:rgb(0%,0%,0%);fill-opacity:1;\">\n",
       "  <use xlink:href=\"#glyph0-23\" x=\"440.183594\" y=\"406.038086\"/>\n",
       "  <use xlink:href=\"#glyph0-15\" x=\"446.855469\" y=\"406.038086\"/>\n",
       "</g>\n",
       "<g style=\"fill:rgb(0%,0%,0%);fill-opacity:1;\">\n",
       "  <use xlink:href=\"#glyph0-23\" x=\"440.183594\" y=\"420.436523\"/>\n",
       "  <use xlink:href=\"#glyph0-15\" x=\"446.855469\" y=\"420.436523\"/>\n",
       "  <use xlink:href=\"#glyph0-24\" x=\"450.191406\" y=\"420.436523\"/>\n",
       "  <use xlink:href=\"#glyph0-25\" x=\"453.527344\" y=\"420.436523\"/>\n",
       "  <use xlink:href=\"#glyph0-20\" x=\"460.199219\" y=\"420.436523\"/>\n",
       "  <use xlink:href=\"#glyph0-20\" x=\"462.863281\" y=\"420.436523\"/>\n",
       "</g>\n",
       "</g>\n",
       "</svg>\n"
      ],
      "text/plain": [
       "Plot with title “ROC (continuous) and ROCH (dotted)”"
      ]
     },
     "metadata": {
      "image/svg+xml": {
       "isolated": true
      }
     },
     "output_type": "display_data"
    }
   ],
   "source": [
    "#install.packages('hmeasure')\n",
    "library(hmeasure)\n",
    "preds_df = data.frame(glm=preds.glm, dt = preds.dt, dtfull=preds.dtfull)\n",
    "h = HMeasure(y_t, preds_df)\n",
    "plotROC(h, which=1) # 'which' is the type of graph\n",
    "# str(h) # show the structure of the model\n",
    "#h$metrics['AUC']\n",
    "summary(h)"
   ]
  },
  {
   "cell_type": "markdown",
   "metadata": {},
   "source": [
    "### k-Fold cross validation"
   ]
  },
  {
   "cell_type": "code",
   "execution_count": null,
   "metadata": {
    "collapsed": true
   },
   "outputs": [],
   "source": [
    "# which() # this function returns the list of indexes"
   ]
  }
 ],
 "metadata": {
  "kernelspec": {
   "display_name": "R",
   "language": "R",
   "name": "ir"
  },
  "language_info": {
   "codemirror_mode": "r",
   "file_extension": ".r",
   "mimetype": "text/x-r-source",
   "name": "R",
   "pygments_lexer": "r",
   "version": "3.3.1"
  }
 },
 "nbformat": 4,
 "nbformat_minor": 0
}
