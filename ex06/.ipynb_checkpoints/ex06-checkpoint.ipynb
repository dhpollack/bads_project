{
 "cells": [
  {
   "cell_type": "code",
   "execution_count": 4,
   "metadata": {
    "collapsed": true
   },
   "outputs": [],
   "source": [
    "source('../helpfuncs/BADS-HelperFunctions.R')"
   ]
  },
  {
   "cell_type": "code",
   "execution_count": 5,
   "metadata": {
    "collapsed": false
   },
   "outputs": [
    {
     "data": {
      "text/html": [
       "<table>\n",
       "<thead><tr><th></th><th scope=col>YOB</th><th scope=col>nKIDS</th><th scope=col>nDEP</th><th scope=col>PHON</th><th scope=col>dINC_SP</th><th scope=col>EMPS_A</th><th scope=col>dINC_A</th><th scope=col>RES</th><th scope=col>dHVAL</th><th scope=col>dMBO</th><th scope=col>dOUTM</th><th scope=col>dOUTL</th><th scope=col>dOUTHP</th><th scope=col>dOUTCC</th><th scope=col>BAD</th><th scope=col>YOB_missing</th></tr></thead>\n",
       "<tbody>\n",
       "\t<tr><th scope=row>1</th><td>19   </td><td>4    </td><td>0    </td><td>yes  </td><td>0    </td><td>R    </td><td>0    </td><td>O    </td><td>14464</td><td>4    </td><td>0    </td><td>0    </td><td>0    </td><td>0    </td><td>GOOD </td><td>0    </td></tr>\n",
       "\t<tr><th scope=row>2</th><td>41   </td><td>2    </td><td>0    </td><td>yes  </td><td>0    </td><td>P    </td><td>36000</td><td>O    </td><td>0    </td><td>0    </td><td>280  </td><td>664  </td><td>0    </td><td>80   </td><td>GOOD </td><td>0    </td></tr>\n",
       "\t<tr><th scope=row>3</th><td>66   </td><td>0    </td><td>0    </td><td>yes  </td><td>0    </td><td>N    </td><td>30000</td><td>N    </td><td>0    </td><td>0    </td><td>0    </td><td>0    </td><td>0    </td><td>0    </td><td>GOOD </td><td>0    </td></tr>\n",
       "\t<tr><th scope=row>4</th><td>51   </td><td>2    </td><td>0    </td><td>yes  </td><td>0    </td><td>P    </td><td>464  </td><td>O    </td><td>24928</td><td>8464 </td><td>584  </td><td>320  </td><td>0    </td><td>60   </td><td>GOOD </td><td>0    </td></tr>\n",
       "\t<tr><th scope=row>5</th><td>65   </td><td>0    </td><td>0    </td><td>yes  </td><td>0    </td><td>P    </td><td>15000</td><td>P    </td><td>0    </td><td>0    </td><td>0    </td><td>0    </td><td>0    </td><td>0    </td><td>GOOD </td><td>0    </td></tr>\n",
       "\t<tr><th scope=row>6</th><td>42   </td><td>2    </td><td>0    </td><td>yes  </td><td>10500</td><td>E    </td><td>48000</td><td>O    </td><td>43392</td><td>46464</td><td>1120 </td><td>0    </td><td>0    </td><td>0    </td><td>GOOD </td><td>0    </td></tr>\n",
       "</tbody>\n",
       "</table>\n"
      ],
      "text/latex": [
       "\\begin{tabular}{r|llllllllllllllll}\n",
       "  & YOB & nKIDS & nDEP & PHON & dINC\\_SP & EMPS\\_A & dINC\\_A & RES & dHVAL & dMBO & dOUTM & dOUTL & dOUTHP & dOUTCC & BAD & YOB\\_missing\\\\\n",
       "\\hline\n",
       "\t1 & 19    & 4     & 0     & yes   & 0     & R     & 0     & O     & 14464 & 4     & 0     & 0     & 0     & 0     & GOOD  & 0    \\\\\n",
       "\t2 & 41    & 2     & 0     & yes   & 0     & P     & 36000 & O     & 0     & 0     & 280   & 664   & 0     & 80    & GOOD  & 0    \\\\\n",
       "\t3 & 66    & 0     & 0     & yes   & 0     & N     & 30000 & N     & 0     & 0     & 0     & 0     & 0     & 0     & GOOD  & 0    \\\\\n",
       "\t4 & 51    & 2     & 0     & yes   & 0     & P     & 464   & O     & 24928 & 8464  & 584   & 320   & 0     & 60    & GOOD  & 0    \\\\\n",
       "\t5 & 65    & 0     & 0     & yes   & 0     & P     & 15000 & P     & 0     & 0     & 0     & 0     & 0     & 0     & GOOD  & 0    \\\\\n",
       "\t6 & 42    & 2     & 0     & yes   & 10500 & E     & 48000 & O     & 43392 & 46464 & 1120  & 0     & 0     & 0     & GOOD  & 0    \\\\\n",
       "\\end{tabular}\n"
      ],
      "text/plain": [
       "  YOB nKIDS nDEP PHON dINC_SP EMPS_A dINC_A RES dHVAL  dMBO dOUTM dOUTL dOUTHP\n",
       "1  19     4    0  yes       0      R      0   O 14464     4     0     0      0\n",
       "2  41     2    0  yes       0      P  36000   O     0     0   280   664      0\n",
       "3  66     0    0  yes       0      N  30000   N     0     0     0     0      0\n",
       "4  51     2    0  yes       0      P    464   O 24928  8464   584   320      0\n",
       "5  65     0    0  yes       0      P  15000   P     0     0     0     0      0\n",
       "6  42     2    0  yes   10500      E  48000   O 43392 46464  1120     0      0\n",
       "  dOUTCC  BAD YOB_missing\n",
       "1      0 GOOD           0\n",
       "2     80 GOOD           0\n",
       "3      0 GOOD           0\n",
       "4     60 GOOD           0\n",
       "5      0 GOOD           0\n",
       "6      0 GOOD           0"
      ]
     },
     "metadata": {},
     "output_type": "display_data"
    }
   ],
   "source": [
    "loans = get.loan.dataset(fpath='../data/Loan_Data.csv')\n",
    "head(loans)"
   ]
  },
  {
   "cell_type": "code",
   "execution_count": 13,
   "metadata": {
    "collapsed": false
   },
   "outputs": [
    {
     "data": {
      "text/html": [
       "<ol class=list-inline>\n",
       "\t<li>490</li>\n",
       "\t<li>16</li>\n",
       "</ol>\n"
      ],
      "text/latex": [
       "\\begin{enumerate*}\n",
       "\\item 490\n",
       "\\item 16\n",
       "\\end{enumerate*}\n"
      ],
      "text/markdown": [
       "1. 490\n",
       "2. 16\n",
       "\n",
       "\n"
      ],
      "text/plain": [
       "[1] 490  16"
      ]
     },
     "metadata": {},
     "output_type": "display_data"
    }
   ],
   "source": [
    "loans = loans[sample(nrow(loans)),] # shuffle the loans\n",
    "bound = floor(nrow(loans)*0.6) \n",
    "train = loans[1:bound,]\n",
    "test  = loans[(bound+1):nrow(loans),]\n",
    "dim(test)"
   ]
  },
  {
   "cell_type": "code",
   "execution_count": null,
   "metadata": {
    "collapsed": true
   },
   "outputs": [],
   "source": []
  }
 ],
 "metadata": {
  "kernelspec": {
   "display_name": "R",
   "language": "R",
   "name": "ir"
  },
  "language_info": {
   "codemirror_mode": "r",
   "file_extension": ".r",
   "mimetype": "text/x-r-source",
   "name": "R",
   "pygments_lexer": "r",
   "version": "3.3.1"
  }
 },
 "nbformat": 4,
 "nbformat_minor": 0
}
