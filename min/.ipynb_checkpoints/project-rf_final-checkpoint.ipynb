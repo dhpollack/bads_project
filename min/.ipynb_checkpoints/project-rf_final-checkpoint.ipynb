{
 "cells": [
  {
   "cell_type": "code",
   "execution_count": 2,
   "metadata": {
    "collapsed": false
   },
   "outputs": [
    {
     "name": "stdout",
     "output_type": "stream",
     "text": [
      "Imposing train column structure on test...\n",
      "No oversampling...\n",
      "No automatic feature selection...\n",
      "(51884, 299) (12971, 299) (44101, 299) (7783, 299)\n",
      "Validation Summary:\n",
      "Calculate Optimal Threshold\n"
     ]
    },
    {
     "data": {
      "image/png": "[encoded data removed]",
      "text/plain": [
       "<matplotlib.figure.Figure at 0x7ff75d816cf8>"
      ]
     },
     "metadata": {},
     "output_type": "display_data"
    },
    {
     "name": "stdout",
     "output_type": "stream",
     "text": [
      "Threshold: 0.235\n",
      "Average ROI: 0.836823846846\n",
      "ROC Score: 0.659506677773\n",
      "Validation Return Customers: 1959 of 7783 (25.17%)\n",
      "[[4981 1336]\n",
      " [ 843  623]]\n",
      "Testing Return Customers: 3195 of 12971 (24.63%)\n"
     ]
    }
   ],
   "source": [
    "from badsproject import BADS\n",
    "\n",
    "#####################################\n",
    "#\n",
    "#  Variable Selection\n",
    "#\n",
    "#####################################\n",
    "params_rf = {\n",
    "    ######### Set Seed #########\n",
    "    \"rs\": 90049,\n",
    "    \"save_model\": False,\n",
    "\n",
    "    ######### Feature Selection #########\n",
    "    \"manual_features_to_remove\": [\"x_order_date_num\", \"x_account_creation_date_num\", \n",
    "                                  \"x_deliverydate_estimated_num\", \"x_deliverydate_actual_num\"],\n",
    "    \"feature_correlation_removal\": False,\n",
    "    \"feature_correlation_threshold\": 0.7,\n",
    "    \"automatic_feature_selection\": False,\n",
    "    \"automatic_feature_threshold\": 0.005,\n",
    "\n",
    "    ######### Oversampling #########\n",
    "    # non-standard package: http://contrib.scikit-learn.org/imbalanced-learn/index.html\n",
    "    \"oversample_method\": \"none\",\n",
    "\n",
    "    ######### Cross-Valdiation #########\n",
    "    \"do_cv\": False, # this takes a long time\n",
    "    \"cv_num_folds\": 8,\n",
    "    \"cv_validation_frac\": 0.15,\n",
    "    \"cv_rs_iters\": 10,\n",
    "\n",
    "    ######### Model Selection #########\n",
    "    \"model_to_use\": \"rf\", # \"rf\" or \"gbc\" or \"linear\"\n",
    "    \"clf_default_params\": {'min_samples_split': 2, 'n_estimators': 250, \n",
    "                           'min_samples_leaf': 9, 'criterion': 'gini', \n",
    "                           'verbose': 0, 'oob_score': True, 'n_jobs': 3},\n",
    "}\n",
    "\n",
    "a = BADS()\n",
    "a.set_model(\"rf\")\n",
    "a.__dict__.update(params_rf)\n",
    "# Load and split training  and testing data and create cross validation sets from training data\n",
    "a.create_datasets(use_woe = False)\n",
    "# Oversample if desired\n",
    "a.oversample()\n",
    "# Run algorithm-based feature selection\n",
    "a.automagic_feature_selection()\n",
    "# Print size of training sets\n",
    "print(a.X_train.shape, a.X_test.shape, a.X_train_cv.shape, a.X_valid_cv.shape)\n",
    "# Run the models\n",
    "a.run_model(\"output/8_rf.csv\")\n",
    "\n"
   ]
  },
  {
   "cell_type": "code",
   "execution_count": null,
   "metadata": {
    "collapsed": true
   },
   "outputs": [],
   "source": []
  }
 ],
 "metadata": {
  "kernelspec": {
   "display_name": "Python 3",
   "language": "python",
   "name": "python3"
  },
  "language_info": {
   "codemirror_mode": {
    "name": "ipython",
    "version": 3
   },
   "file_extension": ".py",
   "mimetype": "text/x-python",
   "name": "python",
   "nbconvert_exporter": "python",
   "pygments_lexer": "ipython3",
   "version": "3.5.2"
  }
 },
 "nbformat": 4,
 "nbformat_minor": 2
}
