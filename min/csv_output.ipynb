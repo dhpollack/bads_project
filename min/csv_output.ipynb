{
 "cells": [
  {
   "cell_type": "code",
   "execution_count": 2,
   "metadata": {
    "collapsed": false
   },
   "outputs": [],
   "source": [
    "import pandas as pd\n",
    "import numpy as np\n",
    "from sklearn.externals import joblib "
   ]
  },
  {
   "cell_type": "code",
   "execution_count": 10,
   "metadata": {
    "collapsed": false
   },
   "outputs": [],
   "source": [
    "def output_res_csv(fp_res, fp_out):\n",
    "    a = pd.DataFrame(list(joblib.load(fp_res)[\"params\"]))\n",
    "    a[\"mean_score\"] = joblib.load(fp_res)[\"mean_test_score\"]\n",
    "    a.to_csv(fp_out)\n",
    "    \n",
    "RES = [\"output/clf_rf_cv.results.rf.pkl\", \"output/clf_rf_cv.results.ln.pkl\", \"output/clf_rf_cv.results.gb.pkl\"]\n",
    "OUT = [\"output/cv_paramsearch_rf.csv\", \"output/cv_paramsearch_ln.csv\", \"output/cv_paramsearch_gb.csv\"]\n",
    "\n",
    "for fp_res, fp_out in zip(RES, OUT):\n",
    "    output_res_csv(fp_res, fp_out)"
   ]
  }
 ],
 "metadata": {
  "kernelspec": {
   "display_name": "Python 3",
   "language": "python",
   "name": "python3"
  },
  "language_info": {
   "codemirror_mode": {
    "name": "ipython",
    "version": 3
   },
   "file_extension": ".py",
   "mimetype": "text/x-python",
   "name": "python",
   "nbconvert_exporter": "python",
   "pygments_lexer": "ipython3",
   "version": "3.5.2"
  }
 },
 "nbformat": 4,
 "nbformat_minor": 2
}
